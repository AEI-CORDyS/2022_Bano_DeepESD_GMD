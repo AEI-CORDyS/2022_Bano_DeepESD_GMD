{
 "cells": [
  {
   "cell_type": "markdown",
   "metadata": {},
   "source": [
    "# Downscaling Multi-Model Climate Projection Ensembles with Deep Learning (DeepESD): Contribution to CORDEX EUR-44"
   ]
  },
  {
   "cell_type": "markdown",
   "metadata": {},
   "source": [
    "***Geoscientific Model Development***"
   ]
  },
  {
   "cell_type": "markdown",
   "metadata": {},
   "source": [
    "**J. Baño-Medina, R. Manzanas, E. Cimadevilla, J. Fernández, J. González-Abad, A.S. Cofiño, and J.M. Gutiérrez**"
   ]
  },
  {
   "cell_type": "markdown",
   "metadata": {},
   "source": [
    "This notebook reproduces the results presented in **Downscaling Multi-Model Climate Projection Ensembles with Deep Learning (DeepESD): Contribution to CORDEX EUR-44**, submitted to *Geoscientific Model Development* by *J. Baño-Medina, R. Manzanas, E. Cimadevilla, J. Fernández, J. González-Abad, A.S. Cofiño and J.M. Gutiérrez*. \n",
    "This paper presents *DeepESD*, the first dataset of high-resolution (0.5º) climate change projections (up to 2100) of daily precipitation and temperature over Europe obtained with deep learning techniques (in particular convolutional neural networks) from an ensemble of eight global climate models from the Coupled Model Intercomparison Project version 5 (CMIP5)."
   ]
  },
  {
   "cell_type": "markdown",
   "metadata": {
    "toc": true
   },
   "source": [
    "<h1>Table of Contents<span class=\"tocSkip\"></span></h1>\n",
    "<div class=\"toc\"><ul class=\"toc-item\"><li><span><a href=\"#Preparing-the-R-environment-and-working-directories\" data-toc-modified-id=\"Preparing-the-R-environment-and-working-directories-1\"><span class=\"toc-item-num\">1&nbsp;&nbsp;</span>Preparing the R environment and working directories</a></span><ul class=\"toc-item\"><li><span><a href=\"#Convolutional-Neural-Networks-(CNNs)\" data-toc-modified-id=\"Convolutional-Neural-Networks-(CNNs)-1.1\"><span class=\"toc-item-num\">1.1&nbsp;&nbsp;</span>Convolutional Neural Networks (CNNs)</a></span></li></ul></li><li><span><a href=\"#DeepESD\" data-toc-modified-id=\"DeepESD-2\"><span class=\"toc-item-num\">2&nbsp;&nbsp;</span>DeepESD</a></span><ul class=\"toc-item\"><li><span><a href=\"#Preparing-the-predictor-datasets\" data-toc-modified-id=\"Preparing-the-predictor-datasets-2.1\"><span class=\"toc-item-num\">2.1&nbsp;&nbsp;</span>Preparing the predictor datasets</a></span></li><li><span><a href=\"#Precipitation-downscaling\" data-toc-modified-id=\"Precipitation-downscaling-2.2\"><span class=\"toc-item-num\">2.2&nbsp;&nbsp;</span>Precipitation downscaling</a></span></li><li><span><a href=\"#Temperature-downscaling\" data-toc-modified-id=\"Temperature-downscaling-2.3\"><span class=\"toc-item-num\">2.3&nbsp;&nbsp;</span>Temperature downscaling</a></span></li></ul></li><li><span><a href=\"#Dynamical-climate-models\" data-toc-modified-id=\"Dynamical-climate-models-3\"><span class=\"toc-item-num\">3&nbsp;&nbsp;</span>Dynamical climate models</a></span><ul class=\"toc-item\"><li><span><a href=\"#Ensemble-of-Global-Climate-Models-(GCMs)\" data-toc-modified-id=\"Ensemble-of-Global-Climate-Models-(GCMs)-3.1\"><span class=\"toc-item-num\">3.1&nbsp;&nbsp;</span>Ensemble of Global Climate Models (GCMs)</a></span></li><li><span><a href=\"#Ensemble-of-Regional-Climate-Models-(RCMs)\" data-toc-modified-id=\"Ensemble-of-Regional-Climate-Models-(RCMs)-3.2\"><span class=\"toc-item-num\">3.2&nbsp;&nbsp;</span>Ensemble of Regional Climate Models (RCMs)</a></span></li></ul></li><li><span><a href=\"#Results\" data-toc-modified-id=\"Results-4\"><span class=\"toc-item-num\">4&nbsp;&nbsp;</span>Results</a></span><ul class=\"toc-item\"><li><span><a href=\"#Ensemble-mean-and-bias-with-respect-to-E-OBS\" data-toc-modified-id=\"Ensemble-mean-and-bias-with-respect-to-E-OBS-4.1\"><span class=\"toc-item-num\">4.1&nbsp;&nbsp;</span>Ensemble mean and bias with respect to E-OBS</a></span></li><li><span><a href=\"#Climate-change-signals\" data-toc-modified-id=\"Climate-change-signals-4.2\"><span class=\"toc-item-num\">4.2&nbsp;&nbsp;</span>Climate change signals</a></span></li><li><span><a href=\"#Time-series\" data-toc-modified-id=\"Time-series-4.3\"><span class=\"toc-item-num\">4.3&nbsp;&nbsp;</span>Time-series</a></span></li></ul></li><li><span><a href=\"#Technical-specifications\" data-toc-modified-id=\"Technical-specifications-5\"><span class=\"toc-item-num\">5&nbsp;&nbsp;</span>Technical specifications</a></span></li></ul></div>"
   ]
  },
  {
   "cell_type": "markdown",
   "metadata": {},
   "source": [
    "[next notebook](2022_Bano_DeepESD_GMD.ipynb)\n",
    "<div class=\"alert alert-block alert-info\">\n",
    "<b>Note:</b> The technical specifications of the machine used to run the code presented herein can be found at the end of the notebook. \n",
    "</div>"
   ]
  },
  {
   "cell_type": "markdown",
   "metadata": {},
   "source": [
    "## Preparing the R environment and working directories"
   ]
  },
  {
   "cell_type": "markdown",
   "metadata": {},
   "source": [
    "This notebook is written in the free programming language `R` (version 3.6.1) and builds on [`climate4R`](https://doi.org/10.1016/j.envsoft.2018.09.009) (hereafter C4R), a suite of `R` packages developed by the Santander Meteorology Group for transparent climate data access, post processing (including bias correction and downscaling) and visualization. For details on climate4R (C4R hereafter), the interested reader is referred to [Iturbide et al. 2019](https://doi.org/10.1016/j.envsoft.2018.09.009)."
   ]
  },
  {
   "cell_type": "markdown",
   "metadata": {},
   "source": [
    "In particular, the following C4R libraries are used along the notebook:\n",
    "\n",
    "\n",
    " * `loadeR` (v1.7.0) for data loading,\n",
    " * `loadeR.2nc` (v0.1.1) for data loading, \n",
    " * `transformeR` (v2.1.0) for data manipulation, \n",
    " * [`downscaleR`](https://doi.org/10.5194/gmd-13-1711-2020) (v3.3.2) for downscaling and\n",
    " * [`downscaleR.keras`](https://doi.org/10.5194/gmd-13-2109-2020) (v1.0.0) for downscaling with neural networks and\n",
    " * `visualizeR` (v1.6.0) data visualization\n",
    " * `climate4R.UDG` (v0.2.2) datasets collection\n",
    " * `climate4R.value` (v0.0.2) VALUE indices"
   ]
  },
  {
   "cell_type": "markdown",
   "metadata": {},
   "source": [
    "To install them you may use the devtools package (e.g., ``devtools::install_github(\"SantanderMetGroup/downscaleR.keras@v1.0.0\")`` to install `downscaleR.keras`). "
   ]
  },
  {
   "cell_type": "markdown",
   "metadata": {},
   "source": [
    "It is highly recommended that you use the *conda* package and environment manager to install the entire C4R framework (C4R version 1.5.0), executing the following commands in your command shell terminal: \n",
    "```shell\n",
    "$ conda create --name climate4R\n",
    "$ conda activate climate4R\n",
    "$ conda install -c conda-forge -c r -c defaults -c santandermetgroup climate4r\n",
    "```"
   ]
  },
  {
   "cell_type": "markdown",
   "metadata": {},
   "source": [
    "*** \n",
    "**Note**: that even with C4R v1.5.0 installed via conda, you still need to upgrade libraries `climate4R.UDG` and `VALUE` with the `devtools` package by typing: \n",
    "```R\n",
    "> devtools::install_github(c(\"SantanderMetGroup/climate4R.UDG@v0.2.2\",\"SantanderMetGroup/VALUE@v2.2.2\"))\n",
    "```\n",
    "***"
   ]
  },
  {
   "cell_type": "markdown",
   "metadata": {},
   "source": [
    "We load the libraries with the specific versions needed to replicate the results."
   ]
  },
  {
   "cell_type": "code",
   "execution_count": 1,
   "metadata": {
    "ExecuteTime": {
     "end_time": "2022-05-19T21:10:13.881533Z",
     "start_time": "2022-05-19T21:10:11.793Z"
    }
   },
   "outputs": [
    {
     "name": "stderr",
     "output_type": "stream",
     "text": [
      "Loading required package: rJava\n",
      "\n",
      "Loading required package: loadeR.java\n",
      "\n",
      "Java version 11x amd64 by Oracle Corporation detected\n",
      "\n",
      "NetCDF Java Library v4.6.0-SNAPSHOT (23 Apr 2015) loaded and ready\n",
      "\n",
      "Loading required package: climate4R.UDG\n",
      "\n",
      "climate4R.UDG version 0.2.2 (2021-05-28) is loaded\n",
      "\n",
      "WARNING: Your current version of climate4R.UDG (v0.2.2) is not up-to-date\n",
      "\n",
      "Get the latest stable version (0.2.3) using <devtools::install_github('SantanderMetGroup/climate4R.UDG')>\n",
      "\n",
      "Please use 'citation(\"climate4R.UDG\")' to cite this package.\n",
      "\n",
      "loadeR version 1.7.0 (2020-09-18) is loaded\n",
      "\n",
      "WARNING: Your current version of loadeR (v1.7.0) is not up-to-date\n",
      "\n",
      "Get the latest stable version (1.7.1) using <devtools::install_github(c('SantanderMetGroup/climate4R.UDG','SantanderMetGroup/loadeR'))>\n",
      "\n",
      "Please use 'citation(\"loadeR\")' to cite this package.\n",
      "\n"
     ]
    },
    {
     "name": "stdout",
     "output_type": "stream",
     "text": [
      "\n",
      "    _______   ____  ___________________  __  ________ \n",
      "   / ___/ /  / /  |/  / __  /_  __/ __/ / / / / __  / \n",
      "  / /  / /  / / /|_/ / /_/ / / / / __/ / /_/ / /_/_/  \n",
      " / /__/ /__/ / /  / / __  / / / / /__ /___  / / \\ \\ \n",
      " \\___/____/_/_/  /_/_/ /_/ /_/  \\___/    /_/\\/   \\_\\ \n",
      " \n",
      "      github.com/SantanderMetGroup/climate4R\n",
      "\n"
     ]
    },
    {
     "name": "stderr",
     "output_type": "stream",
     "text": [
      "transformeR version 2.1.0 (2021-03-17) is loaded\n",
      "\n",
      "WARNING: Your current version of transformeR (v2.1.0) is not up-to-date\n",
      "\n",
      "Get the latest stable version (2.1.4) using <devtools::install_github('SantanderMetGroup/transformeR')>\n",
      "\n",
      "Please see 'citation(\"transformeR\")' to cite this package.\n",
      "\n",
      "downscaleR version 3.3.2 (2020-06-05) is loaded\n",
      "\n",
      "WARNING: Your current version of downscaleR (v3.3.2) is not up-to-date\n",
      "\n",
      "Get the latest stable version (3.3.3) using <devtools::install_github(c('SantanderMetGroup/transformeR','SantanderMetGroup/downscaleR'))>\n",
      "\n",
      "Please use 'citation(\"downscaleR\")' to cite this package.\n",
      "\n",
      "Loading required package: keras\n",
      "\n",
      "Loading required package: tensorflow\n",
      "\n",
      "visualizeR version 1.6.0 (2020-05-23) is loaded\n",
      "\n",
      "WARNING: Your current version of visualizeR (v1.6.0) is not up-to-date\n",
      "\n",
      "Get the latest stable version (1.6.1) using <devtools::install_github('SantanderMetGroup/visualizeR')>\n",
      "\n",
      "Please see 'citation(\"visualizeR\")' to cite this package.\n",
      "\n",
      "Loading required package: VALUE\n",
      "\n",
      "---------------------------------------------- \n",
      "| VALUE version 2.2.2 (2021-08-18) is loaded |\n",
      "|         http://www.value-cost.eu           |\n",
      "----------------------------------------------\n",
      "\n"
     ]
    }
   ],
   "source": [
    "options(java.parameters = \"-Xmx8g\")  # expanding Java memory\n",
    "\n",
    "#  C4R libraries\n",
    "library(loadeR)  # version v1.7.0\n",
    "library(loadeR.2nc)  # version v0.1.1\n",
    "library(transformeR)  # version v2.1.0\n",
    "library(downscaleR)  # version v3.3.2\n",
    "library(downscaleR.keras)  # version v1.0.0 that build on Keras version 2.3.0 and tensorflow version 2.2.0 \n",
    "library(visualizeR)  # version v1.6.0\n",
    "library(climate4R.UDG)  # version v0.2.2\n",
    "library(climate4R.value)  # version v0.0.2 and relies on VALUE version v2.2.2\n",
    "\n",
    "# Other useful libraries\n",
    "library(magrittr)  # to operate with '%>%' or '%<>%'\n",
    "\n",
    "# For visualization purposes\n",
    "library(RColorBrewer)\n",
    "library(gridExtra)\n",
    "library(ggplot2)"
   ]
  },
  {
   "cell_type": "markdown",
   "metadata": {},
   "source": [
    "Intermediate data, predictions and models, generated along this notebook, are saved in a tree of directories created on the notebook's working directory. Please use the `dir.create` function to create two new directories (`Data` and `models`) in your working directory. \n",
    "Within each of these directories, create subsequently two more subdirectories, named `temperature` and `precip` representing the respectivilly predictands. Finally, also a *figures* directoryin the working directory."
   ]
  },
  {
   "cell_type": "code",
   "execution_count": 18,
   "metadata": {
    "ExecuteTime": {
     "end_time": "2022-05-19T21:40:04.306134Z",
     "start_time": "2022-05-19T21:40:04.292Z"
    }
   },
   "outputs": [],
   "source": [
    "\n",
    "dir.create(\"./Data\", showWarnings = FALSE)\n",
    "dir.create(\"./Data/precip\", showWarnings = FALSE)\n",
    "dir.create(\"./Data/temperature\", showWarnings = FALSE)\n",
    "dir.create(\"./models\", showWarnings = FALSE)\n",
    "dir.create(\"./models/precip\", showWarnings = FALSE)\n",
    "dir.create(\"./models/temperature\", showWarnings = FALSE)\n",
    "dir.create(\"./figures\", showWarnings = FALSE)"
   ]
  },
  {
   "cell_type": "markdown",
   "metadata": {},
   "source": [
    "We are now ready to load into our `R` environment all the data we are going to work with. The table below lists the required datasets, available in netCDF format,  which can be obtained based on two different ways:\n",
    "* Access through the [Climate Data Service](http://meteo.unican.es/cds) developed by the [Santander Met Group](http://meteo.unican.es) (non registered users need to register first [here](http://meteo.unican.es/udg-tap/signup)). Use the `loginUDG` function to log into the service with your own credentials.\n",
    "* Point to the url associated to each dataset to download the netCDF from the original source."
   ]
  },
  {
   "cell_type": "markdown",
   "metadata": {},
   "source": [
    "| Dataset/Label  | Data endpoint | License | Tracking id |\n",
    "|---|---|---|---|\n",
    "| ERA-Interim |  | | |\n",
    "| E-OBS v20e | https://surfobs.climate.copernicus.eu/dataaccess/access_eobs.php#datafiles | | |\n",
    "|CMIP5-subset_CanESM2_r1i1p1_historical |  | | |\n",
    "|CMIP5-subset_CNRM-CM5_r1i1p1_historical |  | | |\n",
    "|CMIP5-subset_MPI-ESM-MR_r1i1p1_historical |  | | |\n",
    "|CMIP5-subset_MPI-ESM-LR_r1i1p1_historical |  | | |\n",
    "|CMIP5-subset_NorESM1-M_r1i1p1_historical |  | | | \n",
    "|CMIP5-subset_GFDL-ESM2M_r1i1p1_historical |  | | |\n",
    "|CMIP5-subset_EC-EARTH_r12i1p1_historical |  | | |\n",
    "|CMIP5-subset_IPSL-CM5A-MR_r1i1p1_historical |  | | |\n",
    "|CMIP5-subset_CanESM2_r1i1p1_rcp85 |  | | |\n",
    "|CMIP5-subset_CNRM-CM5_r1i1p1_rcp85 |  | | |\n",
    "|CMIP5-subset_MPI-ESM-MR_r1i1p1_rcp85 |  | | |\n",
    "|CMIP5-subset_MPI-ESM-LR_r1i1p1_rcp85 |  | | |\n",
    "|CMIP5-subset_NorESM1-M_r1i1p1_rcp85 |  | | |\n",
    "|CMIP5-subset_GFDL-ESM2M_r1i1p1_rcp85 |  | | |\n",
    "|CMIP5-subset_EC-EARTH_r12i1p1_rcp85 |  | | |\n",
    "|CMIP5-subset_IPSL-CM5A-MR_r1i1p1_rcp85 |  | | |\n",
    "|CORDEX-EUR-44_CCCma-CanESM2_historical_r1i1p1_SMHI-RCA4_v1|  | | |\n",
    "|CORDEX-EUR-44_CNRM-CERFACS-CNRM-CM5_historical_r1i1p1_ETH-CLMcom-CCLM5-0-6_v1|  | | |\n",
    "|CORDEX-EUR-44_CNRM-CERFACS-CNRM-CM5_historical_r1i1p1_SMHI-RCA4_v1|  | | |\n",
    "|CORDEX-EUR-44_MPI-M-MPI-ESM-LR_historical_r1i1p1_CLMcom-CCLM4-8-17_v1|  | | |\n",
    "|CORDEX-EUR-44_MPI-M-MPI-ESM-LR_historical_r1i1p1_MPI-CSC-REMO2009_v1|  | | |\n",
    "|CORDEX-EUR-44_NCC-NorESM1-M_historical_r1i1p1_SMHI-RCA4_v1|  | | |\n",
    "|CORDEX-EUR-44_NOAA-GFDL-GFDL-ESM2M_historical_r1i1p1_SMHI-RCA4_v1|  | | |\n",
    "|CORDEX-EUR-44_ICHEC-EC-EARTH_historical_r12i1p1_SMHI-RCA4_v1|  | | |\n",
    "|CORDEX-EUR-44_ICHEC-EC-EARTH_historical_r12i1p1_ETH-CLMcom-CCLM5-0-6_v1|  | | |\n",
    "|CORDEX-EUR-44_IPSL-IPSL-CM5A-MR_historical_r1i1p1_SMHI-RCA4_v1|  | | |\n",
    "|CORDEX-EUR-44_IPSL-IPSL-CM5A-MR_historical_r1i1p1_IPSL-INERIS-WRF331F_v1|  | | |\n",
    "|CORDEX-EUR-44_CCCma-CanESM2_rcp85_r1i1p1_SMHI-RCA4_v1|  | | |\n",
    "|CORDEX-EUR-44_CNRM-CERFACS-CNRM-CM5_rcp85_r1i1p1_ETH-CLMcom-CCLM5-0-6_v1|  | | |\n",
    "|CORDEX-EUR-44_CNRM-CERFACS-CNRM-CM5_rcp85_r1i1p1_SMHI-RCA4_v1|  | | |\n",
    "|CORDEX-EUR-44_MPI-M-MPI-ESM-LR_rcp85_r1i1p1_CLMcom-CCLM4-8-17_v1|  | | |\n",
    "|CORDEX-EUR-44_MPI-M-MPI-ESM-LR_rcp85_r1i1p1_MPI-CSC-REMO2009_v1|  | | |\n",
    "|CORDEX-EUR-44_NCC-NorESM1-M_rcp85_r1i1p1_SMHI-RCA4_v1|  | | |\n",
    "|CORDEX-EUR-44_NOAA-GFDL-GFDL-ESM2M_rcp85_r1i1p1_SMHI-RCA4_v1|  | | |\n",
    "|CORDEX-EUR-44_ICHEC-EC-EARTH_rcp85_r12i1p1_SMHI-RCA4_v1|  | | |\n",
    "|CORDEX-EUR-44_ICHEC-EC-EARTH_rcp85_r12i1p1_ETH-CLMcom-CCLM5-0-6_v1|  | | |\n",
    "|CORDEX-EUR-44_IPSL-IPSL-CM5A-MR_rcp85_r1i1p1_SMHI-RCA4_v1|  | | |\n",
    "|CORDEX-EUR-44_IPSL-IPSL-CM5A-MR_rcp85_r1i1p1_IPSL-INERIS-WRF331F_v1|  | | |"
   ]
  },
  {
   "cell_type": "markdown",
   "metadata": {},
   "source": [
    "Once the data is downloaded, the following block of code allows for loading the ERA-Interim predictor variables, which are needed to train our neural networks, for the period 1979-2005 by using the `loadGridData` function. Subsequently, the `makeMultiGrid` creates a unique C4R object containing all this information. **Note that in the `dataset` argument of `loadGridData` we have to input the path to the netCDF file (e.g., \"working_directory/rr_ens_mean_0.25deg_reg_v20.0e.nc\" for E-OBS v20e precipitation file). Here, for simplicity we refer to this path by the name of the dataset.** "
   ]
  },
  {
   "cell_type": "code",
   "execution_count": 1,
   "metadata": {
    "ExecuteTime": {
     "end_time": "2022-05-21T08:56:02.721148Z",
     "start_time": "2022-05-21T08:56:02.710Z"
    }
   },
   "outputs": [],
   "source": [
    "# Predictor variables considered (see -*-)\n",
    "vars  <- c(\n",
    "  \"psl\",                         # Pressure at surface level \n",
    "  \"z@500\",\"z@700\",\"z@850\",       # Geopotential height at isobaric levels\n",
    "  \"hus@500\",\"hus@700\",\"hus@850\", # Specific humidity at isobaric levels\n",
    "  \"ta@500\",\"ta@700\",\"ta@850\",    # Air temperature at isobaric levels\n",
    "  \"ua@500\",\"ua@700\",\"ua@850\",    # East-ward wind at isobaric levels \n",
    "  \"va@500\",\"va@700\",\"va@850\"     # North-ward wind at isobaric levels \n",
    ")"
   ]
  },
  {
   "cell_type": "code",
   "execution_count": null,
   "metadata": {},
   "outputs": [],
   "source": [
    "if\n",
    "# We loop over the variables and then use  makeMultiGrid,\n",
    "#     to bind the variables in a single C4R object\n",
    "\n",
    "# \"ECMWF_ERA-Interim-ESD\" is the path to the netCDFs \n",
    "#   of ERA-Interim-ESD downloaded from the endpoint \n",
    "#   indicated in the Table\n",
    "x <- lapply(vars, function(z) {\n",
    "  loadGridData(\n",
    "    dataset = \"ECMWF_ERA-Interim-ESD\",  \n",
    "    var     = z,\n",
    "    lonLim  = c(-8,34),  # domain of interest for the predictors\n",
    "    latLim  = c(34,76),  # domain of interest for the predictors\n",
    "    years   = 1979:2005\n",
    "  )}\n",
    ") %>% makeMultiGrid()"
   ]
  },
  {
   "cell_type": "markdown",
   "metadata": {},
   "source": [
    "As predictands we use temperature and precipitation from E-OBS, which can be obtained as netCDF files [here](https://www.ecad.eu/download/ensembles/download.php). Once downloaded, these data can be imported in `R` with the `loadGridData` function. Subsequently, we upscale these E-OBS fields from their native 0.25º to the 0.5º regular grid our projections are delivered by using the `interpGrid` from `transformeR`. In the cell below, we illustrate how to load both precipitation and temperature with `loadGridData`, however, note that you should only load one at a time, or change the object name `y` to e.g., `y_rr` or `y_tg`."
   ]
  },
  {
   "cell_type": "code",
   "execution_count": 4,
   "metadata": {
    "ExecuteTime": {
     "end_time": "2022-05-19T20:34:11.212241Z",
     "start_time": "2022-05-19T20:34:11.195Z"
    }
   },
   "outputs": [],
   "source": [
    "# boundaries of our projections' domain\n",
    "grid05 = list(\"x\" = c(-9.75,30.25),\"y\" = c(34.25,74.25))\n",
    "# target spatial resolution for our projections\n",
    "attr(grid05,\"resX\") <- attr(grid05,\"resY\") <- 0.5 "
   ]
  },
  {
   "cell_type": "code",
   "execution_count": 26,
   "metadata": {},
   "outputs": [],
   "source": [
    "## Please load only one predictand variable (either temperature or precipitation) \n",
    "## or give a different name to each variable (e.g. 'y_rr' and 'y_tg') "
   ]
  },
  {
   "cell_type": "code",
   "execution_count": null,
   "metadata": {},
   "outputs": [],
   "source": [
    "# To load E-OBS precipitation (previously downloaded as netCDF file)\n",
    "y <- loadGridData(\n",
    "  dataset = \"E-OBS v20e\",\n",
    "  var = \"rr\",\n",
    "  lonLim = c(-10,30),\n",
    "  latLim = c(34,74), \n",
    "  years = 1979:2005\n",
    ") %>% interpGrid(new.coordinates = grid05, method = \"bilinear\")"
   ]
  },
  {
   "cell_type": "code",
   "execution_count": null,
   "metadata": {},
   "outputs": [],
   "source": [
    "# To load E-OBS temperature (previously downloaded as netCDF file)\n",
    "y <- loadGridData(\n",
    "  dataset = \"E-OBS v20e\",\n",
    "  var = \"tg\",\n",
    "  lonLim = c(-10,30),\n",
    "  latLim = c(34,74), \n",
    "  years = 1979:2005\n",
    ") %>% interpGrid(new.coordinates = grid05, method = \"bilinear\")"
   ]
  },
  {
   "cell_type": "markdown",
   "metadata": {},
   "source": [
    "We recommend the user to save the predictor `x` and predictand `y` data into `.rda` objects since these loading steps can be quite time-consuming."
   ]
  },
  {
   "cell_type": "markdown",
   "metadata": {},
   "source": [
    "### Convolutional Neural Networks (CNNs)"
   ]
  },
  {
   "cell_type": "markdown",
   "metadata": {},
   "source": [
    "To build *DeepESD* we rely on the convolutional neural networks (CNN) presented in [Baño-Medina et al. 2020](https://gmd.copernicus.org/articles/13/2109/2020/); in particular, on the CNN1 (CNN10) models, which were found to provide robust results for precipitation (temperature) both in ''perfect-prognosis'' conditions but also in the GCM space. The cell below shows how to build these CNN models based on `Keras`, and save them in a custom function called `modelCNN`. Note that precipitation and temperature CNN models are different, so please (un)comment the needed lines depending on your particular target variable of interest. "
   ]
  },
  {
   "cell_type": "markdown",
   "metadata": {},
   "source": [
    "***\n",
    "**Note:** We refer the reader to [Baño-Medina et al. 2020](https://gmd.copernicus.org/articles/13/2109/2020/) for further details about the exact configuration of the CNNs used herein.\n",
    "***"
   ]
  },
  {
   "cell_type": "code",
   "execution_count": null,
   "metadata": {},
   "outputs": [],
   "source": [
    "## Please select one ----------------------------------------------------------\n",
    "## ----------------------------------------------------------------------------\n",
    "## See https://gmd.copernicus.org/articles/13/2109/2020 for technical details\n",
    "## ----------------------------------------------------------------------------"
   ]
  },
  {
   "cell_type": "code",
   "execution_count": 21,
   "metadata": {
    "ExecuteTime": {
     "end_time": "2022-05-19T20:48:35.179232Z",
     "start_time": "2022-05-19T20:48:35.171Z"
    }
   },
   "outputs": [],
   "source": [
    "# Precipitation model\n",
    "modelCNN <- function(inp) {\n",
    "  # Input layer\n",
    "  inputs <- layer_input(shape = dim(inp$x.global)[2:4])\n",
    "  # Hidden layers\n",
    "  l1 = layer_conv_2d(inputs, filters = 50, kernel_size = c(3,3), activation = 'relu', padding = \"same\")\n",
    "  l2 = layer_conv_2d(    l1, filters = 25, kernel_size = c(3,3), activation = 'relu', padding = \"same\")\n",
    "  l3 = layer_conv_2d(    l2, filters =  1, kernel_size = c(3,3), activation = 'relu', padding = \"same\")\n",
    "  l4 = layer_flatten(    l3)\n",
    "  # Output layer\n",
    "  l51 = layer_dense(l4, units = dim(inp$y$Data)[2], activation = 'sigmoid') \n",
    "  l52 = layer_dense(l4, units = dim(inp$y$Data)[2], activation = 'linear' ) \n",
    "  l53 = layer_dense(l4, units = dim(inp$y$Data)[2], activation = 'linear' ) \n",
    "  outputs <- layer_concatenate(list(l51,l52,l53))\n",
    "    \n",
    "  model <- keras_model(inputs = inputs, outputs = outputs) \n",
    "}"
   ]
  },
  {
   "cell_type": "code",
   "execution_count": 6,
   "metadata": {
    "ExecuteTime": {
     "end_time": "2022-05-19T20:35:08.290448Z",
     "start_time": "2022-05-19T20:35:08.271Z"
    }
   },
   "outputs": [],
   "source": [
    "# Temperature model\n",
    "modelCNN <- function(inp) {\n",
    "  # Input layer    \n",
    "  inputs <- layer_input(shape = dim(inp$x.global)[2:4])\n",
    "  # Hidden layers    \n",
    "  l1 = layer_conv_2d(inputs, filters = 50, kernel_size = c(3,3), activation = 'relu', padding = \"valid\")\n",
    "  l2 = layer_conv_2d(    l1, filters = 25, kernel_size = c(3,3), activation = 'relu', padding = \"valid\")\n",
    "  l3 = layer_conv_2d(    l2, filters = 10, kernel_size = c(3,3), activation = 'relu', padding = \"valid\") \n",
    "  l4 = layer_flatten(l3)\n",
    "  # Output layer    \n",
    "  l51 = layer_dense(l4, units = dim(inp$y$Data)[2], activation = 'linear') \n",
    "  l52 = layer_dense(l4, units = dim(inp$y$Data)[2], activation = 'linear') \n",
    "  outputs <- layer_concatenate(list(l51, l52))      \n",
    "  model <- keras_model(inputs = inputs, outputs = outputs) \n",
    "}"
   ]
  },
  {
   "cell_type": "markdown",
   "metadata": {},
   "source": [
    "## DeepESD"
   ]
  },
  {
   "cell_type": "markdown",
   "metadata": {},
   "source": [
    "In this section we 1) load the predictor variables of interest from the 8 GCM considered from the Santander CDS, 2) harmonize and standardize these predictor fields, 3) save these processed fields in `rda` objects to avoid repeating these steps in the future, 4) build the CNN models based on ERA-Interim predictors and E-OBS predictands and 5) apply these models to the GCM predictor variables to obtain the final high-resolution (downscaled at 0.5º) proje"
   ]
  },
  {
   "cell_type": "markdown",
   "metadata": {},
   "source": [
    "In this section we 1) load the predictor variables of interest from the 8 GCM considered from the Santander CDS, 2) harmonize and standardize these predictor fields, 3) save these processed fields in `rda` objects to avoid repeating these steps in the future, 4) build the CNN models based on ERA-Interim predictors and E-OBS predictands and 5) apply these models to the GCM predictor variables to obtain the final high-resolution (downscaled at 0.5º) projections up to 2100."
   ]
  },
  {
   "cell_type": "markdown",
   "metadata": {},
   "source": [
    "### Preparing the predictor datasets"
   ]
  },
  {
   "cell_type": "markdown",
   "metadata": {},
   "source": [
    "The `dh` and `df` objects below contain the labels that identify the 8 GCMs considered in this work in the Santander CDS, for the historical and RCP.8.5 scenario, respectively. These lables are used when calling the `loadGridData` function for data loading."
   ]
  },
  {
   "cell_type": "code",
   "execution_count": 4,
   "metadata": {
    "ExecuteTime": {
     "end_time": "2022-05-19T21:10:35.796755Z",
     "start_time": "2022-05-19T21:10:35.787Z"
    }
   },
   "outputs": [],
   "source": [
    "## Use UDG.datasets() to obtain the labels of the desired GCMs\n",
    "\n",
    "# Historical scenario\n",
    "dh <- c(\n",
    "  \"CMIP5-subset_CanESM2_r1i1p1_historical\",\n",
    "  \"CMIP5-subset_CNRM-CM5_r1i1p1_historical\",\n",
    "  \"CMIP5-subset_MPI-ESM-MR_r1i1p1_historical\",\n",
    "  \"CMIP5-subset_MPI-ESM-LR_r1i1p1_historical\",\n",
    "  \"CMIP5-subset_NorESM1-M_r1i1p1_historical\", \n",
    "  \"CMIP5-subset_GFDL-ESM2M_r1i1p1_historical\",\n",
    "  \"CMIP5-subset_EC-EARTH_r12i1p1_historical\",\n",
    "  \"CMIP5-subset_IPSL-CM5A-MR_r1i1p1_historical\"\n",
    ")\n",
    "\n",
    "# RCP8.5 scenario\n",
    "df <- c(\n",
    "  \"CMIP5-subset_CanESM2_r1i1p1_rcp85\",\n",
    "  \"CMIP5-subset_CNRM-CM5_r1i1p1_rcp85\", \n",
    "  \"CMIP5-subset_MPI-ESM-MR_r1i1p1_rcp85\",\n",
    "  \"CMIP5-subset_MPI-ESM-LR_r1i1p1_rcp85\",\n",
    "  \"CMIP5-subset_NorESM1-M_r1i1p1_rcp85\",\n",
    "  \"CMIP5-subset_GFDL-ESM2M_r1i1p1_rcp85\",\n",
    "  \"CMIP5-subset_EC-EARTH_r12i1p1_rcp85\",\n",
    "  \"CMIP5-subset_IPSL-CM5A-MR_r1i1p1_rcp85\"\n",
    ")\n",
    "\n",
    "# Labels used to identify the 8 GCMs\n",
    "dName <- c(\"CanESM2\",\"CNRM-CM5\",\"MPI-ESM-MR\",\"MPI-ESM-LR\",\"NorESM1\",\"GFDL\",\"EC-Earth\",\"IPSL\")"
   ]
  },
  {
   "cell_type": "markdown",
   "metadata": {},
   "source": [
    "The following loop allows us to load the predictors from the above GCMs over our target domain for the reference (1975-2005) and future (early-future: 2006-2040, mid-future: 2041-2070, far-future: 2071-2100) periods of interest. Note that the historical (RCP8.5) scenario is used for the reference (future) periods. Note also that, within the loop, all the GCMs are interpolated to the spatial resolution of the ERA-Interim predictors which were used to fit the CNNs. Once loaded, the GCM predictors are saved as `.rda` files."
   ]
  },
  {
   "cell_type": "code",
   "execution_count": null,
   "metadata": {},
   "outputs": [],
   "source": [
    "lapply(c(\"h\",\"ef\",\"mf\",\"ff\"), FUN = function(sc) {\n",
    "  if (sc == \"h\")  years <- 1975:2005  # historical period of interest\n",
    "  if (sc == \"ef\") years <- 2006:2040  # early-future\n",
    "  if (sc == \"mf\") years <- 2041:2070  # mid-future\n",
    "  if (sc == \"ff\") years <- 2071:2100  # far-future\n",
    "  if (sc == \"h\"){d <- dh} else {d <- df}\n",
    "    \n",
    "  # We loop over the GCMs\n",
    "  lapply(1:length(d), FUN = function(zz) {    \n",
    "    x <- lapply(vars, function(z) {\n",
    "      loadGridData(\n",
    "        dataset = d[zz],\n",
    "        var = z, \n",
    "        lonLim = c(-8,34),\n",
    "        latLim = c(34,76),\n",
    "        years = years\n",
    "      ) \n",
    "    } %>% interpGrid(new.coordinates = getGrid(x))) \n",
    "      %>% makeMultiGrid()\n",
    "    \n",
    "    # Since the IPSL contains NA values in the 850hPa level at certain gridpoints, we replace these NA values with the numeric values of their closest neighbours.\n",
    "    if (dName[zz] == \"IPSL\") {\n",
    "      ind850 <- grepl(\"@850\",x$Variable$varName,fixed = TRUE) %>% which()\n",
    "      indGP <- apply(x$Data[ind850[1],1,,,], MARGIN = c(2,3), anyNA) %>% which(arr.ind = TRUE)\n",
    "      for (i in 1:nrow(indGP)) {\n",
    "        indTime <- is.na(x$Data[ind850[1],1,,indGP[i,1],indGP[i,2]]) %>% which()\n",
    "        x$Data[ind850,1,indTime,indGP[i,1],indGP[i,2]] <- x$Data[ind850,1,indTime,indGP[i,1],indGP[i,2]-1]\n",
    "      }\n",
    "    }\n",
    "    #SAVE            \n",
    "    # We save the predictor fields as .rda files            \n",
    "    if (sc == \"h\") {\n",
    "      xh <- x\n",
    "      save(xh, file = paste0(\"./Data/xh_\",dName[zz],\".rda\"))\n",
    "      rm(x,xh)\n",
    "    } else {\n",
    "      xf <- x\n",
    "      save(xf, file = paste0(\"./Data/x\",sc,\"_\",dName[zz],\".rda\"))\n",
    "      rm(x,xf)\n",
    "    }            \n",
    "  })  \n",
    "})  "
   ]
  },
  {
   "cell_type": "markdown",
   "metadata": {},
   "source": [
    "The following loop allows us to harmonize and standardize the GCM predictors loaded in the previous step to assure they reasonable resemble the ERA-Interim variables used to train the CNN models (note this is one of the key assumptions that are done in ''perfect-prognosis'' downscaling). For this harmonization+standardization step, which is different depending on the particular scenario of interest (the reader is referred again to [Baño-Medina et al. 2020](https://gmd.copernicus.org/articles/13/2109/2020/) for details about this process), the `scaleGrid` function from `transformeR` is used. The so-processed GCM predictors, wich will be used as inputs to the CNN models, are saved as `rda` files. "
   ]
  },
  {
   "cell_type": "code",
   "execution_count": null,
   "metadata": {
    "code_folding": []
   },
   "outputs": [],
   "source": [
    "# We loop over the GCMs\n",
    "lapply(1:length(dName), FUN = function(zz) {\n",
    "  #LOAD\n",
    "  load(paste0(\"./Data/xh_\",dName[zz],\".rda\")) \n",
    "  # We loop over the temporal periods  \n",
    "  lapply(c(\"h\",\"ef\",\"mf\",\"ff\"), FUN = function(sc) {\n",
    "      \n",
    "    # We harmonize and standardize the historical scenario  \n",
    "    if (sc == \"h\") {\n",
    "      xh <- scaleGrid(\n",
    "        xh, \n",
    "        base = subsetGrid(xh, years = 1979:2005),\n",
    "        ref = x,\n",
    "        type = \"standardize\",\n",
    "        spatial.frame = \"gridbox\",\n",
    "        time.frame = \"monthly\"\n",
    "      ) \n",
    "      # standardization\n",
    "      xn <- scaleGrid(\n",
    "        xh,\n",
    "        base = subsetGrid(xh, years = 1979:2005),\n",
    "        type = \"standardize\"\n",
    "      )\n",
    "        \n",
    "    # We harmonize and standardize the RCP8.5 scenario    \n",
    "    } else {\n",
    "      #LOAD\n",
    "      load(paste0(\"./Data/x\",sc,\"_\",dName[zz],\".rda\"))  \n",
    "      xf <- scaleGrid(xf, base = subsetGrid(xh, years = 1979:2005), ref = x, type = \"standardize\", spatial.frame = \"gridbox\", time.frame = \"monthly\") # harmonization    \n",
    "      xh <- scaleGrid(xh, base = subsetGrid(xh, years = 1979:2005), ref = x, type = \"standardize\", spatial.frame = \"gridbox\", time.frame = \"monthly\") # harmonization     \n",
    "      xn <- xf %>% scaleGrid(base = subsetGrid(xh, years = 1979:2005), type = \"standardize\")  # standardization                     \n",
    "    }\n",
    "      \n",
    "    #SAVE\n",
    "    # We save the standardized predictor fields as `rda` objects  \n",
    "    save(xn, file = paste0(\"./Data/xn\",sc,\"_\",dName[zz],\".rda\"))  \n",
    "  })\n",
    "})"
   ]
  },
  {
   "cell_type": "markdown",
   "metadata": {},
   "source": [
    "### Precipitation downscaling\n",
    "This section shows how to fit the CNN model which links the large-scale predictors from ERA-Interim with the high-resolution E-OBS precipitation at surface. The steps to take would be the following:\n",
    "- Prepare the predictor and predictand tensors with the `prepareData.keras` function from `downscaleR.keras`.\n",
    "- Standardize the ERA-Interim predictors with the `scaleGrid` function from `transformeR`. \n",
    "- For a better fit of the Gamma distribution, 0.99 is substracted from observed precipitation and negative values are ignored (note that this step implies that rainy days are defined as those receiving 1 or more mm of precipitation). To do this, the `gridArithmetics` and `binaryGrid` functions from `transformeR` are used.\n",
    "- Train the CNN model encapsuled in the `modelCNN` (which has been previously defined) with the `downscaleTrain.keras` function from `downscaleR.keras`. To optimize the negative log-likelihood of the Bernoulli-Gamma distribution, we employ the custom loss function `bernouilliGammaLoss` from `downscaleR.keras`. The network is fitted using the adam optimizer and a learning rate of 1e-4. Early-stopping with a patience of 30 epochs is applied and the best model (epoch) is saved in the working directory as a `.h5` file."
   ]
  },
  {
   "cell_type": "code",
   "execution_count": 19,
   "metadata": {
    "ExecuteTime": {
     "end_time": "2022-05-19T22:06:48.755707Z",
     "start_time": "2022-05-19T22:06:44.431Z"
    }
   },
   "outputs": [],
   "source": [
    "#LOAD\n",
    "load(\"./Data/x.rda\")\n",
    "load(\"./Data/precip/y.rda\")"
   ]
  },
  {
   "cell_type": "code",
   "execution_count": 21,
   "metadata": {
    "ExecuteTime": {
     "end_time": "2022-05-19T22:08:33.170840Z",
     "start_time": "2022-05-19T22:08:08.578Z"
    }
   },
   "outputs": [
    {
     "name": "stderr",
     "output_type": "stream",
     "text": [
      "[2022-05-20 00:08:08] - Scaling ...\n",
      "\n",
      "[2022-05-20 00:08:15] - Done\n",
      "\n"
     ]
    }
   ],
   "source": [
    "x = scaleGrid(x,type = \"standardize\")\n",
    "y = binaryGrid(gridArithmetics(y,0.99,operator = \"-\"),condition = \"GE\",threshold = 0,partial = TRUE)"
   ]
  },
  {
   "cell_type": "code",
   "execution_count": 22,
   "metadata": {
    "ExecuteTime": {
     "end_time": "2022-05-19T22:09:53.354271Z",
     "start_time": "2022-05-19T22:09:50.559Z"
    }
   },
   "outputs": [
    {
     "name": "stderr",
     "output_type": "stream",
     "text": [
      "Warning message in prepareData.keras(x = x, y = y, first.connection = \"conv\", last.connection = \"dense\", :\n",
      "“removing gridpoints containing NaNs of object: y”\n"
     ]
    }
   ],
   "source": [
    "# Preparing predictor and predictand data for downscaling with downscaleR.keras\n",
    "xyT <- prepareData.keras(\n",
    "  x = x,\n",
    "  y = y,\n",
    "  first.connection = \"conv\",\n",
    "  last.connection = \"dense\",\n",
    "  channels = \"last\"\n",
    ")"
   ]
  },
  {
   "cell_type": "code",
   "execution_count": 23,
   "metadata": {
    "ExecuteTime": {
     "end_time": "2022-05-19T22:25:23.039623Z",
     "start_time": "2022-05-19T22:25:23.029Z"
    }
   },
   "outputs": [
    {
     "ename": "ERROR",
     "evalue": "Error in modelCNN(xyT): could not find function \"modelCNN\"\n",
     "output_type": "error",
     "traceback": [
      "Error in modelCNN(xyT): could not find function \"modelCNN\"\nTraceback:\n",
      "1. downscaleTrain.keras(obj = xyT, model = modelCNN(xyT), clear.session = TRUE, \n .     compile.args = list(loss = bernouilliGammaLoss(last.connection = \"dense\"), \n .         optimizer = optimizer_adam(lr = 1e-04)), fit.args = list(batch_size = 100, \n .         epochs = 10000, validation_split = 0.1, verbose = 1, \n .         callbacks = list(callback_early_stopping(patience = 30), \n .             callback_model_checkpoint(filepath = \"./models/precip/CNN1.h5\", \n .                 monitor = \"val_loss\", save_best_only = TRUE))))"
     ]
    }
   ],
   "source": [
    "# NOTE: Running this cell takes about 1 hour \n",
    "# Training the CNN model to downscale precipitation\n",
    "downscaleTrain.keras(\n",
    "  obj = xyT, \n",
    "  model = modelCNN(xyT),\n",
    "  clear.session = TRUE,\n",
    "  compile.args = \n",
    "    list(\n",
    "      \"loss\" = bernouilliGammaLoss(last.connection = \"dense\"),\n",
    "      \"optimizer\" = optimizer_adam(lr = 0.0001)\n",
    "    ),\n",
    "  fit.args =\n",
    "    list(\n",
    "      \"batch_size\" = 100,\n",
    "      \"epochs\" = 10000,\n",
    "      \"validation_split\" = 0.1,\n",
    "      \"verbose\" = 1,\n",
    "      \"callbacks\" = \n",
    "        list(\n",
    "          callback_early_stopping(patience = 30),\n",
    "          callback_model_checkpoint(\n",
    "            filepath = './models/precip/CNN1.h5',\n",
    "            monitor = 'val_loss',\n",
    "            save_best_only = TRUE\n",
    "          )\n",
    "        )\n",
    "    )\n",
    ")"
   ]
  },
  {
   "cell_type": "markdown",
   "metadata": {},
   "source": [
    "Once the model is trained, we use it to predict in both the train (training period using ERA-Interim variables) and the GCM spaces. As per the former, we are interested in the estimation of the parameter `p` (probability of rain), since it is needed to later adjust the frequency of rain in the high-resolution projections obtained from the GCM (see the manuscript for details). To compute `p` in the train period the following is done:\n",
    "- Prepare the predictors which will serve as inputs for the CNN model with the `prepareNewData.keras` function. Subsequently, use them to predict in the train set with the `downscalePredict.keras` function. The `model` argument indicates the path where the CNN model was previously stored, and `C4Rtemplate` is a C4R object used as template for the predictions which provides de proper metadata. Since `downscalePredict.keras` outputs 3 parameters (the probability of rain, `p`, and the logarithmic of the shape and scale parameters of the Gamma distribution, `log_alpha` and `log_beta`), the `subsetGrid` is applied in order to keep only `p`."
   ]
  },
  {
   "cell_type": "code",
   "execution_count": 24,
   "metadata": {
    "ExecuteTime": {
     "end_time": "2022-05-19T22:27:10.039623Z",
     "start_time": "2022-05-19T22:27:06.438Z"
    }
   },
   "outputs": [],
   "source": [
    "# Preparing predictor data\n",
    "xyt <- prepareNewData.keras(x, xyT)"
   ]
  },
  {
   "cell_type": "code",
   "execution_count": null,
   "metadata": {},
   "outputs": [],
   "source": [
    "pred_ocu_train <- downscalePredict.keras(\n",
    "  newdata = xyt, \n",
    "  C4R.template = y,\n",
    "  clear.session = TRUE,\n",
    "  loss = \"bernouilliGammaLoss\",\n",
    "  model = list(\n",
    "    \"filepath\" = './models/precip/CNN1.h5',\n",
    "    \"custom_objects\" = c(\"custom_loss\" = bernouilliGammaLoss(last.connection = \"dense\")))) %>% subsetGrid(var = \"p\")"
   ]
  },
  {
   "cell_type": "markdown",
   "metadata": {},
   "source": [
    "At this point, the trained CNN model is used to generate the high-resolution projections building on the 8 GCMs considered in this work. To do so, we perform a loop over the distinct GCMs in which the corresponding predictors (which had been previously saved) are loaded and conveniently transformed using the `prepareNewData.keras` function. Finally, the `log_alpha`, `log_beta` and `p` parameters, which are obtained with the `downscalePredict.keras` function are saved in the `pred` object.\n",
    "- On the one hand, `log_alpha` and `log_beta` are used to obtain the rainfall amount with the `computeRainfall` function from `downscaleR.keras`. The argument `simulate` allows us for specifying if either a stochastic or a deterministic outcome is wanted. The argument `bias` is used to re-center the Gamma distribution to 1mm/day. \n",
    "- On the other hand, we use the `p` parameter to derive the binary event occurrence/non occurrence through the `bynaryGrid` function.\n",
    "- Finally, both series (binary and continuous) are multiplied to produce the complete precipitation time series."
   ]
  },
  {
   "cell_type": "markdown",
   "metadata": {},
   "source": [
    "In the following block of code we compute the (deterministic) frequency and (stochastic) amount of rain. The generated projections are saved in `.nc` format with the `grid2nc` function."
   ]
  },
  {
   "cell_type": "markdown",
   "metadata": {},
   "source": [
    "***\n",
    "***Note:*** If a purely deterministic, or a purely stochastic version of the projections is wanted, please uncomment the corresponding lines.\n",
    "***"
   ]
  },
  {
   "cell_type": "code",
   "execution_count": null,
   "metadata": {},
   "outputs": [],
   "source": [
    "dName <- c(\"CanESM2\",\"CNRM-CM5\",\"MPI-ESM-MR\",\"MPI-ESM-LR\",\"NorESM1\",\"GFDL\",\"EC-Earth\",\"IPSL\")"
   ]
  },
  {
   "cell_type": "code",
   "execution_count": null,
   "metadata": {},
   "outputs": [],
   "source": [
    "# NOTE: Running this cell takes about 4 hours\n",
    "# We loop over the GCMs\n",
    "lapply(1:length(dName), FUN = function(zz) {\n",
    "    \n",
    "  # We loop over the temporal periods  \n",
    "  lapply(c(\"h\",\"ef\",\"mf\",\"ff\"), FUN = function(sc) {\n",
    "    #LOAD\n",
    "    load(paste0(\"./Data/xn\",sc,\"_\",dName[zz],\".rda\"))\n",
    "    xyt <- prepareNewData.keras(xn,xyT)  \n",
    "    pred <- downscalePredict.keras(newdata = xyt,C4R.template = y,clear.session = TRUE,loss = \"bernouilliGammaLoss\",\n",
    "                                   model = list(\"filepath\" = './models/precip/CNN1.h5',\"custom_objects\" = c(\"custom_loss\" = bernouilliGammaLoss(last.connection = \"dense\")))) \n",
    "    \n",
    "    ## Frequency (deterministic) and amount of rain (stochastic) ------------------------------------------\n",
    "    pred2 <- computeRainfall(log_alpha = subsetGrid(pred,var = \"log_alpha\"),log_beta = subsetGrid(pred,var = \"log_beta\"),bias = 1,simulate = TRUE) %>% gridArithmetics(binaryGrid(subsetGrid(pred,var = \"p\"),ref.obs = binaryGrid(y,threshold = 1, condition = \"GE\"),ref.pred = pred_ocu_train))  \n",
    "    #SAVE\n",
    "    grid2nc(pred2,NetCDFOutFile = paste0(\"./Data/precip/CNN_\",sc,\"_\",dName[zz],\".nc4\"))   \n",
    "  })    \n",
    "})"
   ]
  },
  {
   "cell_type": "markdown",
   "metadata": {},
   "source": [
    "### Temperature downscaling\n",
    "This section shows how to train the CNN model which links the large-scale predictors from ERA-Interim with the high-resolution E-OBS temperature at surface. As for precipitation, the steps to take would be the following:\n",
    "\n",
    "- Prepare the predictor and predictand tensors with the `prepareData.keras` function from `downscaleR.keras`.\n",
    "- Standardize the ERA-Interim predictors with the `scaleGrid` function from `transformeR`. \n",
    "- Train the CNN model encapsuled in the `modelCNN` (which has been previously defined) with the `downscaleTrain.keras` function from `downscaleR.keras`. To optimize the negative log-likelihood of the Gaussian distribution, we use the custom loss function `GaussianLoss` from `downscaleR.keras`. Whe network is fitted using the adam optimizer and a learning rate of 1e-4. Early-stopping with a patience of 30 epochs is applied and the best model (epoch) is saved in the working directory as a `.h5` file."
   ]
  },
  {
   "cell_type": "code",
   "execution_count": 10,
   "metadata": {},
   "outputs": [],
   "source": [
    "#LOAD\n",
    "load(\"./Data/x.rda\")\n",
    "load(\"./Data/temperature/y.rda\")"
   ]
  },
  {
   "cell_type": "code",
   "execution_count": null,
   "metadata": {},
   "outputs": [],
   "source": [
    "# NOTE: Running this cell takes about 1 hour\n",
    "\n",
    "# Preparing predictor and predictand data for downscaling with downscaleR.keras\n",
    "xyT <- prepareData.keras(x = scaleGrid(x,type = \"standardize\"),y = y,\n",
    "                         first.connection = \"conv\",last.connection = \"dense\",channels = \"last\")  \n",
    "\n",
    "#SAVE\n",
    "# Training the CNN model to downscale temperature\n",
    "downscaleTrain.keras(obj = xyT,model = modelCNN(xyT),clear.session = TRUE,\n",
    "                     compile.args = list(\"loss\" = gaussianLoss(last.connection = \"dense\"),\"optimizer\" = optimizer_adam(lr = 0.0001)),\n",
    "                     fit.args = list(\"batch_size\" = 100,\"epochs\" = 10000,\"validation_split\" = 0.1,\"verbose\" = 1,\n",
    "                                     \"callbacks\" = list(callback_early_stopping(patience = 30),callback_model_checkpoint(filepath='./models/temperature/CNN10.h5',monitor='val_loss', save_best_only=TRUE))))"
   ]
  },
  {
   "cell_type": "markdown",
   "metadata": {},
   "source": [
    "Once trained, the CNN model is used to generate the high-resolution projections of temperature. Similarly as for precipitation, we apply for this task the `prepareNewData.keras` and `downscalePredict.keras` functions, saving the `mean` and `log_var` parameters in the `pred` object. The code below allows for obtaining deterministic projections (note that only the `mean` parameter is needed in this case) and saving them in `.nc` format with the `grid2nc` function.\n",
    "\n",
    "***Note:*** If stochastic projections are wanted, please uncomment the corresponding lines.\n",
    "he projections as `.nc`using function `grid2nc`."
   ]
  },
  {
   "cell_type": "code",
   "execution_count": null,
   "metadata": {},
   "outputs": [],
   "source": [
    "# NOTE: Running this cell takes about 1 hour and 20 minutes\n",
    "dName <- c(\"CanESM2\",\"CNRM-CM5\",\"MPI-ESM-MR\",\"MPI-ESM-LR\",\"NorESM1\",\"GFDL\",\"EC-Earth\",\"IPSL\")\n",
    "\n",
    "lapply(1:length(dName), FUN = function(zz) {\n",
    "  lapply(c(\"h\",\"ef\",\"mf\",\"ff\"), FUN = function(sc) {\n",
    "    #LOAD\n",
    "    load(paste0(\"./Data/xn\",sc,\"_\",dName[zz],\".rda\"))\n",
    "    xyt <- prepareNewData.keras(xn,xyT)\n",
    "    #LOAD\n",
    "    pred <- downscalePredict.keras(newdata = xyt,C4R.template = y,clear.session = TRUE,loss = \"gaussianLoss\",\n",
    "                                   model = list(\"filepath\" = './models/temperature/CNN10.h5',\"custom_objects\" = c(\"custom_loss\" = gaussianLoss(last.connection = \"dense\")))) \n",
    "    \n",
    "    ## Deterministic version \n",
    "    pred <- subsetGrid(pred, var = \"mean\")\n",
    "    pred$Variable$varName <- \"tas\"\n",
    "    #SAVE\n",
    "    grid2nc(pred,NetCDFOutFile = paste0(\"./Data/temperature/CNN_\",sc,\"_\",dName[zz],\".nc4\"))               \n",
    "      \n",
    "    k_clear_session()  \n",
    "  })    \n",
    "})"
   ]
  },
  {
   "cell_type": "markdown",
   "metadata": {},
   "source": [
    "## Dynamical climate models\n",
    "To assess the credibility of DeepESD, it is compared against two different ensembles of dynamical models (see the *Technical Validation* section), the first/second of them formed by Global/Regional Climate Models (GCMs/RCMs). Since DeepESD covers only land, we start by creating a 0.5º land-sea mask which will be later applied to eliminate sea points from both GCMs and RCMs."
   ]
  },
  {
   "cell_type": "code",
   "execution_count": 11,
   "metadata": {},
   "outputs": [],
   "source": [
    "#LOAD\n",
    "load(\"./Data/precip/y.rda\")"
   ]
  },
  {
   "cell_type": "code",
   "execution_count": null,
   "metadata": {},
   "outputs": [],
   "source": [
    "mask <- gridArithmetics(subsetGrid(y,year = 1990),0) %>% gridArithmetics(1,operator = \"+\") %>% climatology()\n",
    "#SAVE\n",
    "grid2nc(mask, NetCDFOutFile = \"./Data/mask.nc4\")  "
   ]
  },
  {
   "cell_type": "markdown",
   "metadata": {},
   "source": [
    "### Ensemble of Global Climate Models (GCMs)"
   ]
  },
  {
   "cell_type": "markdown",
   "metadata": {},
   "source": [
    "We perform a loop over the temporal periods of interest (1975-2005 for the historical scenario plus 2006-2040, 2041-2070 and 2071-2100 for RCP8.5) and save the GCM ensemble as netCDF files (`grid2nc` function) in a multi-member C4R object. All GCMs are interpolated to our target 0.5º resolution (E-OBS grid), using conservative remapping. To do this interpolation, we rely on the `cdo` library and use function `system` to invoke the OS command. Please note that you can install the `cdo` library with conda, by typing `conda install cdo` in a terminal. Finally, sea points are removed by applying the land-sea mask we have previously created."
   ]
  },
  {
   "cell_type": "code",
   "execution_count": 5,
   "metadata": {
    "ExecuteTime": {
     "end_time": "2022-05-19T21:11:01.110049Z",
     "start_time": "2022-05-19T21:11:01.100Z"
    }
   },
   "outputs": [],
   "source": [
    "if () {}\n",
    "## Please select one:   -----------------------------------------------------------------------\n",
    "# Parameter Setting for precipitation\n",
    "variable <- \"precip\"\n",
    "var <- \"pr\""
   ]
  },
  {
   "cell_type": "code",
   "execution_count": 6,
   "metadata": {
    "ExecuteTime": {
     "end_time": "2022-05-19T21:11:03.013695Z",
     "start_time": "2022-05-19T21:11:02.995Z"
    }
   },
   "outputs": [],
   "source": [
    "# Parameter Setting for temperature\n",
    "variable <- \"temperature\"\n",
    "var <- \"tas\"\n",
    "## --------------------------------------------------------------------------------------------"
   ]
  },
  {
   "cell_type": "code",
   "execution_count": 7,
   "metadata": {
    "ExecuteTime": {
     "end_time": "2022-05-19T21:11:26.309149Z",
     "start_time": "2022-05-19T21:11:25.249Z"
    },
    "collapsed": true
   },
   "outputs": [
    {
     "name": "stderr",
     "output_type": "stream",
     "text": [
      "NOTE: Accessing harmonized data from a public UDG dataset\n",
      "\n",
      "[2022-05-19 23:11:25] Defining harmonization parameters for variable \"tas\"\n",
      "\n",
      "[2022-05-19 23:11:25] Opening dataset...\n",
      "\n"
     ]
    },
    {
     "ename": "ERROR",
     "evalue": "Error: UNAUTHORIZED to open the requested dataset.\nCheck your login details and authorized datasets.\n",
     "output_type": "error",
     "traceback": [
      "Error: UNAUTHORIZED to open the requested dataset.\nCheck your login details and authorized datasets.\nTraceback:\n",
      "1. lapply(c(\"h\", \"ef\", \"mf\", \"ff\"), FUN = function(z) {\n .     if (z == \"h\") \n .         years <- 1975:2005\n .     if (z == \"ef\") \n .         years <- 2006:2040\n .     if (z == \"mf\") \n .         years <- 2041:2070\n .     if (z == \"ff\") \n .         years <- 2071:2100\n .     if (z == \"h\") {\n .         d <- dh\n .     }\n .     else {\n .         d <- df\n .     }\n .     lapply(1:length(d), FUN = function(zzz) {\n .         yy <- loadGridData(dataset = d[zzz], var = var, years = years, \n .             lonLim = c(-10, 30), latLim = c(34, 74))\n .         grid2nc(yy, NetCDFOutFile = \"./aux.nc4\")\n .         system(paste0(\"cdo remapcon,\", \"./Data/mask.nc4\", \" \", \n .             \"./aux.nc4\", \" \", \"./aux2.nc4\"))\n .         yy <- loadGridData(\"./aux2.nc4\", var = var)\n .         file.remove(c(\"./aux.nc4\", \"./aux2.nc4\"))\n .         yy <- lapply(1:getShape(yy, \"time\"), FUN = function(z) gridArithmetics(subsetDimension(yy, \n .             dimension = \"time\", indices = z), mask)) %>% bindGrid(dimension = \"time\")\n .         grid2nc(yy, NetCDFOutFile = paste0(\"./Data/\", variable, \n .             \"/y_\", z, \"_\", dName[zzz], \".nc4\"))\n .     })\n . })",
      "2. FUN(X[[i]], ...)",
      "3. lapply(1:length(d), FUN = function(zzz) {\n .     yy <- loadGridData(dataset = d[zzz], var = var, years = years, \n .         lonLim = c(-10, 30), latLim = c(34, 74))\n .     grid2nc(yy, NetCDFOutFile = \"./aux.nc4\")\n .     system(paste0(\"cdo remapcon,\", \"./Data/mask.nc4\", \" \", \"./aux.nc4\", \n .         \" \", \"./aux2.nc4\"))\n .     yy <- loadGridData(\"./aux2.nc4\", var = var)\n .     file.remove(c(\"./aux.nc4\", \"./aux2.nc4\"))\n .     yy <- lapply(1:getShape(yy, \"time\"), FUN = function(z) gridArithmetics(subsetDimension(yy, \n .         dimension = \"time\", indices = z), mask)) %>% bindGrid(dimension = \"time\")\n .     grid2nc(yy, NetCDFOutFile = paste0(\"./Data/\", variable, \"/y_\", \n .         z, \"_\", dName[zzz], \".nc4\"))\n . })   # at line 10-25 of file <text>",
      "4. FUN(X[[i]], ...)",
      "5. loadGridData(dataset = d[zzz], var = var, years = years, lonLim = c(-10, \n .     30), latLim = c(34, 74))   # at line 12 of file <text>",
      "6. openDataset(dataset)",
      "7. tryCatch(expr = J(\"ucar.nc2.dt.grid.GridDataset\")$open(dataset), \n .     error = function(e) {\n .         if (grepl(\"return status=503\", e)) {\n .             stop(\"Service temporarily unavailable\\nThe server is temporarily unable to service your request, please try again later.\", \n .                 call. = FALSE)\n .         }\n .         else if (grepl(\"return status=404\", e)) {\n .             stop(dataset, \" is not a valid URL)\", call. = FALSE)\n .         }\n .         else if (grepl(\"return status=401\", e)) {\n .             stop(\"UNAUTHENTICATED\\nCheck your login details\", \n .                 call. = FALSE)\n .         }\n .         else if (grepl(\"return status=403\", e)) {\n .             stop(\"FORBIDDEN: You don't have the necessary permissions to access the requested dataset\", \n .                 call. = FALSE)\n .         }\n .         else if (grepl(\"Unauthorized to open dataset\", e)) {\n .             stop(\"UNAUTHORIZED to open the requested dataset.\\nCheck your login details and authorized datasets.\", \n .                 call. = FALSE)\n .         }\n .     })",
      "8. tryCatchList(expr, classes, parentenv, handlers)",
      "9. tryCatchOne(expr, names, parentenv, handlers[[1L]])",
      "10. value[[3L]](cond)",
      "11. stop(\"UNAUTHORIZED to open the requested dataset.\\nCheck your login details and authorized datasets.\", \n  .     call. = FALSE)"
     ]
    }
   ],
   "source": [
    "# We loop over the temporal periods of interest\n",
    "lapply(c(\"h\",\"ef\",\"mf\",\"ff\"), FUN = function(z) {\n",
    "  if (z == \"h\")  years <- 1975:2005  # historical\n",
    "  if (z == \"ef\") years <- 2006:2040  # RCP8.5\n",
    "  if (z == \"mf\") years <- 2041:2070  # RCP8.5\n",
    "  if (z == \"ff\") years <- 2071:2100  # RCP8.5\n",
    "  if (z == \"h\") {d <- dh} else {d <- df} \n",
    "    \n",
    "  # We loop over the GCM labels  \n",
    "  lapply(1:length(d), FUN = function(zzz) {    \n",
    "    # Load the data and interpolate to the target resolution with interpGrid  \n",
    "    yy <- loadGridData(dataset = d[zzz],var = var,years = years,lonLim = c(-10,30),latLim = c(34,74))\n",
    "    #SAVE\n",
    "    grid2nc(yy, NetCDFOutFile = \"./aux.nc4\") # we save the GCM cropped to the European domain, and save as .nc in an auxiliary variable \n",
    "    \n",
    "    system(paste0(\"cdo remapcon,\", \"./Data/mask.nc4\", \" \", \"./aux.nc4\", \" \", \"./aux2.nc4\"))  # We use system function to call the cdo library and interpolate the grid using conservative remapping\n",
    "    \n",
    "    yy <- loadGridData(\"./aux2.nc4\", var = var) # we load the interpolated GCM field\n",
    "    file.remove(c(\"./aux.nc4\",\"./aux2.nc4\"))  \n",
    "    # Apply land-sea mask \n",
    "    yy <- lapply(1:getShape(yy,\"time\"), FUN = function(z) gridArithmetics(subsetDimension(yy, dimension = \"time\", indices = z),mask)) %>% bindGrid(dimension = \"time\")            \n",
    "    #SAVE\n",
    "    # Save the GCM members\n",
    "    grid2nc(yy,NetCDFOutFile = paste0(\"./Data/\",variable,\"/y_\",z,\"_\",dName[zzz],\".nc4\"))\n",
    "  }) \n",
    "})"
   ]
  },
  {
   "cell_type": "markdown",
   "metadata": {},
   "source": [
    "### Ensemble of Regional Climate Models (RCMs) \n",
    "In this section we form an ensemble of EURO-CORDEX RCMs which can be easily loaded from the Santander CDS by using the appropiate labels (see the block below)."
   ]
  },
  {
   "cell_type": "code",
   "execution_count": 8,
   "metadata": {
    "ExecuteTime": {
     "end_time": "2022-05-19T21:12:10.962579Z",
     "start_time": "2022-05-19T21:12:10.952Z"
    }
   },
   "outputs": [],
   "source": [
    "# Labels for the historical scenario\n",
    "dh <- c(\n",
    "  \"CORDEX-EUR-44_CCCma-CanESM2_historical_r1i1p1_SMHI-RCA4_v1\",\n",
    "  \"CORDEX-EUR-44_CNRM-CERFACS-CNRM-CM5_historical_r1i1p1_ETH-CLMcom-CCLM5-0-6_v1\",\n",
    "  \"CORDEX-EUR-44_CNRM-CERFACS-CNRM-CM5_historical_r1i1p1_SMHI-RCA4_v1\",\n",
    "  \"CORDEX-EUR-44_MPI-M-MPI-ESM-LR_historical_r1i1p1_CLMcom-CCLM4-8-17_v1\",\n",
    "  \"CORDEX-EUR-44_MPI-M-MPI-ESM-LR_historical_r1i1p1_MPI-CSC-REMO2009_v1\",\n",
    "  \"CORDEX-EUR-44_NCC-NorESM1-M_historical_r1i1p1_SMHI-RCA4_v1\",\n",
    "  \"CORDEX-EUR-44_NOAA-GFDL-GFDL-ESM2M_historical_r1i1p1_SMHI-RCA4_v1\",\n",
    "  \"CORDEX-EUR-44_ICHEC-EC-EARTH_historical_r12i1p1_SMHI-RCA4_v1\",\n",
    "  \"CORDEX-EUR-44_ICHEC-EC-EARTH_historical_r12i1p1_ETH-CLMcom-CCLM5-0-6_v1\",\n",
    "  \"CORDEX-EUR-44_IPSL-IPSL-CM5A-MR_historical_r1i1p1_SMHI-RCA4_v1\",\n",
    "  \"CORDEX-EUR-44_IPSL-IPSL-CM5A-MR_historical_r1i1p1_IPSL-INERIS-WRF331F_v1\"\n",
    ")\n",
    "# Labels for the RCP8.5 scenario\n",
    "df <- c(\n",
    "  \"CORDEX-EUR-44_CCCma-CanESM2_rcp85_r1i1p1_SMHI-RCA4_v1\",\n",
    "  \"CORDEX-EUR-44_CNRM-CERFACS-CNRM-CM5_rcp85_r1i1p1_ETH-CLMcom-CCLM5-0-6_v1\",\n",
    "  \"CORDEX-EUR-44_CNRM-CERFACS-CNRM-CM5_rcp85_r1i1p1_SMHI-RCA4_v1\",\n",
    "  \"CORDEX-EUR-44_MPI-M-MPI-ESM-LR_rcp85_r1i1p1_CLMcom-CCLM4-8-17_v1\",\n",
    "  \"CORDEX-EUR-44_MPI-M-MPI-ESM-LR_rcp85_r1i1p1_MPI-CSC-REMO2009_v1\",\n",
    "  \"CORDEX-EUR-44_NCC-NorESM1-M_rcp85_r1i1p1_SMHI-RCA4_v1\",\n",
    "  \"CORDEX-EUR-44_NOAA-GFDL-GFDL-ESM2M_rcp85_r1i1p1_SMHI-RCA4_v1\",\n",
    "  \"CORDEX-EUR-44_ICHEC-EC-EARTH_rcp85_r12i1p1_SMHI-RCA4_v1\",\n",
    "  \"CORDEX-EUR-44_ICHEC-EC-EARTH_rcp85_r12i1p1_ETH-CLMcom-CCLM5-0-6_v1\",\n",
    "  \"CORDEX-EUR-44_IPSL-IPSL-CM5A-MR_rcp85_r1i1p1_SMHI-RCA4_v1\",\n",
    "  \"CORDEX-EUR-44_IPSL-IPSL-CM5A-MR_rcp85_r1i1p1_IPSL-INERIS-WRF331F_v1\"\n",
    ")"
   ]
  },
  {
   "cell_type": "markdown",
   "metadata": {},
   "source": [
    "We perfrom a loop over the temporal periods of interest (1975-2005 for the historical scenario plus 2006-2040, 2041-2070 and 2071-2100 for RCP8.5) and save the RCM ensemble as netCDF files (`grid2nc` function) in a multi-member C4R object. All RCMs are interpolated to our target 0.5º resolution (E-OBS grid) and sea points are removed by applying the land-sea mask we have previously created."
   ]
  },
  {
   "cell_type": "code",
   "execution_count": 9,
   "metadata": {
    "ExecuteTime": {
     "end_time": "2022-05-19T21:12:13.805005Z",
     "start_time": "2022-05-19T21:12:13.788Z"
    }
   },
   "outputs": [],
   "source": [
    "## Please select one:   -----------------------------------------------------------------------\n",
    "# Precipitation\n",
    "variable <- \"precip\"\n",
    "var <- \"pr\""
   ]
  },
  {
   "cell_type": "code",
   "execution_count": 10,
   "metadata": {
    "ExecuteTime": {
     "end_time": "2022-05-19T21:12:15.735891Z",
     "start_time": "2022-05-19T21:12:15.716Z"
    }
   },
   "outputs": [],
   "source": [
    "## Temperature\n",
    "variable <- \"temperature\"\n",
    "var <- \"tas\"\n",
    "## --------------------------------------------------------------------------------------------"
   ]
  },
  {
   "cell_type": "code",
   "execution_count": null,
   "metadata": {},
   "outputs": [],
   "source": [
    "# We loop over the temporal periods of interest\n",
    "lapply(c(\"h\",\"ef\",\"mf\",\"ff\"), FUN = function(z) {\n",
    "  if (z == \"h\")  years <- 1975:2005  # historical\n",
    "  if (z == \"ef\") years <- 2006:2040  # RCP8.5\n",
    "  if (z == \"mf\") years <- 2041:2070  # RCP8.5\n",
    "  if (z == \"ff\") years <- 2071:2099  # RCP8.5\n",
    "  if (z == \"h\") {d <- dh} else {d <- df}\n",
    "    \n",
    "  # We loop over the RCM labels  \n",
    "  yy <- lapply(1:length(d), FUN = function(zzz) { \n",
    "        # Load the data and interpolate to the target resolution with interpGrid\n",
    "        yy <- loadGridData(dataset = d[zzz],var = var,years = years,lonLim = c(-10,30),latLim = c(34,74)) %>% interpGrid(getGrid(y))\n",
    "        # Apply land-sea mask\n",
    "        yy <- lapply(1:getShape(yy,\"time\"), FUN = function(z) gridArithmetics(subsetDimension(yy, dimension = \"time\", indices = z),mask)) %>% bindGrid(dimension = \"time\")  \n",
    "        # Save the RCM members\n",
    "        grid2nc(yy,NetCDFOutFile = paste0(\"./Data/\",variable,\"/yRCM_\",z,\"_member\",zzz,\".nc4\"))\n",
    "  })\n",
    "})"
   ]
  },
  {
   "cell_type": "markdown",
   "metadata": {},
   "source": [
    "## Results"
   ]
  },
  {
   "cell_type": "markdown",
   "metadata": {},
   "source": [
    "This section provides the code needed to reproduce the figures presented in the manuscript. Note we mostly rely on the `visualizeR` package for plotting since it supports both spatial maps and temporal series."
   ]
  },
  {
   "cell_type": "markdown",
   "metadata": {},
   "source": [
    "### Ensemble mean and bias with respect to E-OBS"
   ]
  },
  {
   "cell_type": "markdown",
   "metadata": {},
   "source": [
    "Figure 1 in the manuscript shows the climatology of the different ensembles built (GCM, RCM and DeepESD), along with the corresponding mean error (bias) with respect to the observed pattern in the historical period. We start thus by computing the climatology of the different contributing members forming each ensemble and saving them as netCDF files in the working directory."
   ]
  },
  {
   "cell_type": "code",
   "execution_count": 11,
   "metadata": {
    "ExecuteTime": {
     "end_time": "2022-05-19T21:12:26.055392Z",
     "start_time": "2022-05-19T21:12:26.036Z"
    }
   },
   "outputs": [],
   "source": [
    "## Please select one:   -----------------------------------------------------------------------\n",
    "# Precipitation\n",
    "variable <- \"precip\"\n",
    "var <- \"pr\""
   ]
  },
  {
   "cell_type": "code",
   "execution_count": 12,
   "metadata": {
    "ExecuteTime": {
     "end_time": "2022-05-19T21:12:27.903647Z",
     "start_time": "2022-05-19T21:12:27.884Z"
    }
   },
   "outputs": [],
   "source": [
    "# Temperature\n",
    "variable <- \"temperature\"\n",
    "var <- \"tas\"\n",
    "## --------------------------------------------------------------------------------------------"
   ]
  },
  {
   "cell_type": "code",
   "execution_count": 13,
   "metadata": {
    "ExecuteTime": {
     "end_time": "2022-05-19T21:12:30.621694Z",
     "start_time": "2022-05-19T21:12:30.600Z"
    }
   },
   "outputs": [],
   "source": [
    "dates <- list(start = \"2006-01-01 12:00:00 GMT\", end = \"2041-01-01 12:00:00 GMT\") # because a member of the RCM ensemble misses a value on the 01-Jan-2006, so to preserve temporal consistency in the ensemble we add this date to the ensemble mean metadata\n",
    "dName1 <- c(\"CanESM2\",\"CNRM-CM5\",\"MPI-ESM-MR\",\"MPI-ESM-LR\",\"NorESM1\",\"GFDL\",\"EC-Earth\",\"IPSL\")\n",
    "dName2 <- 1:11\n",
    "nn <- c(\"GCM\",\"RCM\",\"CNN\")"
   ]
  },
  {
   "cell_type": "code",
   "execution_count": null,
   "metadata": {},
   "outputs": [],
   "source": [
    "lapply(1:length(nn), FUN = function(zz) {\n",
    "  if (nn[zz] == \"RCM\") {dName <- dName2} else {dName <- dName1}  \n",
    "  lapply(c(\"h\",\"ef\",\"mf\",\"ff\"), FUN = function(z) {  \n",
    "    pred <- lapply(1:length(dName), FUN = function(zzz) { \n",
    "      if (zz == 1) path <- paste0(\"./Data/\", variable, \"/y_\",    z,\"_\",       dName[zzz], \".nc4\") # GCM ensemble\n",
    "      if (zz == 2) path <- paste0(\"./Data/\", variable, \"/yRCM_\", z,\"_member\", zzz,        \".nc4\") # RCM ensemble           \n",
    "      if (zz == 3) path <- paste0(\"./Data/\", variable, \"/CNN_\",  z,\"_\",       dName[zzz], \".nc4\") # DeepESD ensemble   \n",
    "      #LOAD\n",
    "      grid <- loadGridData(dataset = path,var = var)\n",
    "      grid <- valueIndex(grid, index.code = \"Mean\")$Index  # computing the mean of each member \n",
    "      if (z == \"ef\") grid$Dates <- dates \n",
    "      return(grid)  \n",
    "    }) %>% bindGrid(dimension = \"member\")  # bind the member means in a single C4R object along the `member` dimension\n",
    "    \n",
    "    pred$InitializationDates <- NULL\n",
    "    #SAVE\n",
    "    # Saving the ensemble mean in netCDF format  \n",
    "    grid2nc(pred, NetCDFOutFile = paste0(\"./Data/\", variable, \"/\", nn[zz], \"_\", z, \"_ensemble.nc4\"))\n",
    "    pred <- NULL  \n",
    "  })\n",
    "})  "
   ]
  },
  {
   "cell_type": "markdown",
   "metadata": {},
   "source": [
    "Next, the mean climatology for each ensemble is obtained with the `aggregateGrid` function (note the aggregation is done along the member dimension) from `transformeR`. Afterwards, we can already use `spatialPlot` to plot the corresponding spatial pattern. The resulting figure is saved in `pdf` format in the path indicated in the `pdfOutput` object."
   ]
  },
  {
   "cell_type": "markdown",
   "metadata": {},
   "source": [
    "***\n",
    "***Note:*** Depending on the target variable of interest the user should comment/uncomment the appropriate lines at the beginning of the cell, which define the plotting parameters better suited for precipitation and temperature. This applies to the rest of the notebook from now on.\n",
    "***"
   ]
  },
  {
   "cell_type": "code",
   "execution_count": 15,
   "metadata": {
    "ExecuteTime": {
     "end_time": "2022-05-19T20:44:05.553453Z",
     "start_time": "2022-05-19T20:44:05.520Z"
    }
   },
   "outputs": [],
   "source": [
    "## Please select one:   -----------------------------------------------------------------------\n",
    "# Precipitation\n",
    "cb <- c(\"#FFFFFF\",brewer.pal(n = 9, \"BuPu\"))\n",
    "cb <- cb %>% colorRampPalette()\n",
    "at <- seq(0,8,0.5)    \n",
    "units <- \"mm/day\"\n",
    "pdfOutput <- \"./figures/ensembleMean_pr.pdf\" \n",
    "var <- \"precip\""
   ]
  },
  {
   "cell_type": "code",
   "execution_count": 16,
   "metadata": {
    "ExecuteTime": {
     "end_time": "2022-05-19T20:44:07.081974Z",
     "start_time": "2022-05-19T20:44:07.067Z"
    }
   },
   "outputs": [],
   "source": [
    "# Temperature\n",
    "cb <- c(\"#FFFFFF\",brewer.pal(n = 9, \"OrRd\"))\n",
    "cb <- cb %>% colorRampPalette()\n",
    "at <- seq(-5, 20,2.5) \n",
    "units <- \"ºC\"\n",
    "pdfOutput <- \"./figures/ensembleMean_tas.pdf\" \n",
    "var <- \"temperature\"\n",
    "## --------------------------------------------------------------------------------------------"
   ]
  },
  {
   "cell_type": "code",
   "execution_count": 2,
   "metadata": {
    "ExecuteTime": {
     "end_time": "2022-05-21T09:32:22.399749Z",
     "start_time": "2022-05-21T09:32:22.386Z"
    }
   },
   "outputs": [
    {
     "ename": "ERROR",
     "evalue": "Error in loadGridData(paste0(\"./Data/\", var, \"/\", nn[z], \"_h_ensemble.nc4\"), : could not find function \"loadGridData\"\n",
     "output_type": "error",
     "traceback": [
      "Error in loadGridData(paste0(\"./Data/\", var, \"/\", nn[z], \"_h_ensemble.nc4\"), : could not find function \"loadGridData\"\nTraceback:\n",
      "1. lapply(1:length(nn), FUN = function(z) {\n .     grid <- loadGridData(paste0(\"./Data/\", var, \"/\", nn[z], \"_h_ensemble.nc4\"), \n .         var = \"Mean\")\n .     gridMean <- aggregateGrid(grid, aggr.mem = list(FUN = \"mean\", \n .         na.rm = TRUE))\n .     spatialPlot(gridMean, backdrop.theme = \"coastline\", main = paste0(\"Ensemble Mean (\", \n .         units, \") - \", nn[z]), ylab = \"1975-2005\", col.regions = cb, \n .         at = at, set.min = at[1], set.max = at[length(at)])\n . })",
      "2. FUN(X[[i]], ...)"
     ]
    }
   ],
   "source": [
    "nn <- c(\"GCM\",\"RCM\",\"CNN\")\n",
    "figs <- lapply(1:length(nn), FUN = function(z) {\n",
    "  \n",
    "  # We store in `grid` object the ensemble of climatologies  \n",
    "  grid <- loadGridData(paste0(\"./Data/\", var, \"/\", nn[z], \"_h_ensemble.nc4\"), var = \"Mean\")\n",
    "  \n",
    "  # Compute the ensemble mean  \n",
    "  gridMean <-  aggregateGrid(grid,aggr.mem = list(FUN = \"mean\", na.rm = TRUE)) \n",
    "  \n",
    "  # We depict the ensemble mean with spatialPlot function  \n",
    "  spatialPlot(\n",
    "    gridMean,\n",
    "    backdrop.theme = \"coastline\",\n",
    "    main = paste0(\"Ensemble Mean (\",units,\") - \",nn[z]),\n",
    "    ylab = \"1975-2005\",\n",
    "    col.regions = cb,\n",
    "    at = at,\n",
    "    set.min = at[1], \n",
    "    set.max = at[length(at)])\n",
    "})\n",
    "\n",
    "pdf(pdfOutput, width = 15, height = 10)   \n",
    "grid.arrange(grobs = figs, ncol = 3)                     \n",
    "dev.off()"
   ]
  },
  {
   "cell_type": "markdown",
   "metadata": {},
   "source": [
    "Now we plot the bias with respecto to the observed (i.e. E-OBS) climatology. Again, we rely on `spatialPlot` to depict the spatial fields, and `aggregateGrid` and `gridArithmetics`, to compute the ensemble mean and its bias, respectively. The resulting figures are saved in `pdf` format in the path indicated by `pdfOutput`."
   ]
  },
  {
   "cell_type": "code",
   "execution_count": 18,
   "metadata": {
    "ExecuteTime": {
     "end_time": "2022-05-19T20:44:34.601831Z",
     "start_time": "2022-05-19T20:44:33.252Z"
    }
   },
   "outputs": [],
   "source": [
    "## Please select one:   -----------------------------------------------------------------------\n",
    "# Precipitation\n",
    "cb <- brewer.pal(n = 11, \"BrBG\")\n",
    "cb[6] <- \"#FFFFFF\"; cb <- cb %>% colorRampPalette()\n",
    "at <- c(seq(-2, -0.5,0.5),-0.25,0.25,seq(0.5, 2,0.5))    \n",
    "units <- \"mm/day\"\n",
    "pdfOutput <- \"./figures/bias_pr.pdf\" \n",
    "var <- \"precip\"\n",
    "load(\"./Data/precip/y.rda\")"
   ]
  },
  {
   "cell_type": "code",
   "execution_count": 19,
   "metadata": {
    "ExecuteTime": {
     "end_time": "2022-05-19T20:44:36.092757Z",
     "start_time": "2022-05-19T20:44:34.296Z"
    }
   },
   "outputs": [],
   "source": [
    "# Temperature\n",
    "cb <- rev(brewer.pal(n = 11, \"RdBu\"))\n",
    "cb[6] <- \"#FFFFFF\"; cb <- cb %>% colorRampPalette()\n",
    "at <- c(seq(-2, -0.5,0.5),-0.25,0.25, seq(0.5,2,0.5)) \n",
    "units <- \"ºC\"\n",
    "pdfOutput <- \"./figures/bias_tas.pdf\"\n",
    "var <- \"temperature\"\n",
    "load(\"./Data/temperature/y.rda\")\n",
    "## --------------------------------------------------------------------------------------------"
   ]
  },
  {
   "cell_type": "code",
   "execution_count": 20,
   "metadata": {
    "ExecuteTime": {
     "end_time": "2022-05-19T20:45:16.782016Z",
     "start_time": "2022-05-19T20:44:39.381Z"
    }
   },
   "outputs": [
    {
     "name": "stderr",
     "output_type": "stream",
     "text": [
      "[2022-05-19 22:44:39] Defining geo-location parameters\n",
      "\n",
      "[2022-05-19 22:44:39] Defining time selection parameters\n",
      "\n",
      "[2022-05-19 22:44:39] Retrieving data subset ...\n",
      "\n",
      "[2022-05-19 22:44:39] Done\n",
      "\n",
      "[2022-05-19 22:44:39] - Aggregating members...\n",
      "\n",
      "[2022-05-19 22:44:39] - Done.\n",
      "\n",
      "[2022-05-19 22:44:44] Computing member 1 out of 1\n",
      "\n",
      "[2022-05-19 22:44:52] Done.\n",
      "\n",
      "[2022-05-19 22:44:52] Defining geo-location parameters\n",
      "\n",
      "[2022-05-19 22:44:52] Defining time selection parameters\n",
      "\n",
      "[2022-05-19 22:44:52] Retrieving data subset ...\n",
      "\n",
      "[2022-05-19 22:44:52] Done\n",
      "\n",
      "[2022-05-19 22:44:52] - Aggregating members...\n",
      "\n",
      "[2022-05-19 22:44:52] - Done.\n",
      "\n",
      "[2022-05-19 22:44:56] Computing member 1 out of 1\n",
      "\n",
      "[2022-05-19 22:45:04] Done.\n",
      "\n",
      "[2022-05-19 22:45:04] Defining geo-location parameters\n",
      "\n",
      "[2022-05-19 22:45:04] Defining time selection parameters\n",
      "\n",
      "[2022-05-19 22:45:04] Retrieving data subset ...\n",
      "\n",
      "[2022-05-19 22:45:04] Done\n",
      "\n",
      "[2022-05-19 22:45:04] - Aggregating members...\n",
      "\n",
      "[2022-05-19 22:45:04] - Done.\n",
      "\n",
      "[2022-05-19 22:45:08] Computing member 1 out of 1\n",
      "\n",
      "[2022-05-19 22:45:16] Done.\n",
      "\n"
     ]
    },
    {
     "data": {
      "text/html": [
       "<strong>png:</strong> 2"
      ],
      "text/latex": [
       "\\textbf{png:} 2"
      ],
      "text/markdown": [
       "**png:** 2"
      ],
      "text/plain": [
       "png \n",
       "  2 "
      ]
     },
     "metadata": {},
     "output_type": "display_data"
    }
   ],
   "source": [
    "nn <- c(\"GCM\",\"RCM\",\"CNN\")\n",
    "figs <- lapply(1:length(nn), FUN = function(z) {\n",
    "  # Compute the ensemble mean  \n",
    "  grid <- loadGridData(paste0(\"./Data/\",var,\"/\",nn[z],\"_h_ensemble.nc4\"), var = \"Mean\") %>% aggregateGrid(aggr.mem = list(FUN = \"mean\", na.rm = TRUE))\n",
    "  # Compute the bias with respect to the observed temporal climatology for the same period\n",
    "  grid  %<>% gridArithmetics(valueIndex(y, index.code = \"Mean\")$Index,operator = \"-\")\n",
    "  # Depict the bias of the ensemble mean\n",
    "  spatialPlot(grid,\n",
    "              backdrop.theme = \"coastline\",\n",
    "              main = paste0(\"Bias Ensemble Mean (\",units,\") - \",nn[z]),\n",
    "              ylab = \"1975-2005\",\n",
    "              col.regions = cb,\n",
    "              at = at,\n",
    "              set.min = at[1], set.max = at[length(at)])  \n",
    "}) \n",
    "pdf(pdfOutput, width = 15, height = 10)   \n",
    "grid.arrange(grobs = figs, ncol = 3)                     \n",
    "dev.off()"
   ]
  },
  {
   "cell_type": "markdown",
   "metadata": {},
   "source": [
    "### Climate change signals"
   ]
  },
  {
   "cell_type": "markdown",
   "metadata": {},
   "source": [
    "To produce Figure 2 in the manuscript we perform a loop, for each ensemble (GCM, RCM and DeepESD), over the different RCP8.5 periods of interest and sequentially compute the difference between the future climatology and the historical one. These climate change signals are then averaged along the member dimension using the `aggregateGrid` function. The resulting figures are saved in `pdf` format in the path indicated by `pdfOutput`."
   ]
  },
  {
   "cell_type": "code",
   "execution_count": null,
   "metadata": {},
   "outputs": [],
   "source": [
    "## Please select one:   -----------------------------------------------------------------------\n",
    "# Precipitation\n",
    "cb <- brewer.pal(n = 11, \"BrBG\")\n",
    "cb[6] <- \"#FFFFFF\"; cb <- cb %>% colorRampPalette()\n",
    "at <- c(seq(-1, -0.25,0.25),-0.125,0.125,seq(0.25, 1,0.25)) \n",
    "pdfOutput <- \"./figures/deltas_pr.pdf\" \n",
    "var <- \"precip\""
   ]
  },
  {
   "cell_type": "code",
   "execution_count": null,
   "metadata": {},
   "outputs": [],
   "source": [
    "# Temperature\n",
    "cb <- c(\"#FFFFFF\",brewer.pal(n = 11, \"OrRd\"))\n",
    "at <- c(seq(0,4,0.5),5,6)\n",
    "pdfOutput <- \"./figures/deltas_tas.pdf\"\n",
    "var <- \"temperature\"\n",
    "## --------------------------------------------------------------------------------------------"
   ]
  },
  {
   "cell_type": "code",
   "execution_count": null,
   "metadata": {},
   "outputs": [],
   "source": [
    "nn <- c(\"GCM\",\"RCM\",\"CNN\")\n",
    "figs <- lapply(c(\"ef\",\"mf\",\"ff\"), FUN = function(z) {  \n",
    "    lapply(1:length(nn), FUN = function(zz) {\n",
    "    gridh <- loadGridData(paste0(\"./Data/\",var,\"/\",nn[zz],\"_h_ensemble.nc4\"), var = \"Mean\") \n",
    "    gridf <- loadGridData(paste0(\"./Data/\",var,\"/\",nn[zz],\"_\",z,\"_ensemble.nc4\"), var = \"Mean\") \n",
    "    grid <- gridArithmetics(gridf,gridh,operator = \"-\")\n",
    "    gridMean <-  aggregateGrid(grid,aggr.mem = list(FUN = \"mean\", na.rm = TRUE)) \n",
    "\n",
    "    if (z == \"ef\") period <- c(\"2006-2040\")\n",
    "    if (z == \"mf\") period <- c(\"2041-2070\")\n",
    "    if (z == \"ff\") period <- c(\"2071-2100\")\n",
    "    spatialPlot(gridMean,\n",
    "                backdrop.theme = \"coastline\",\n",
    "                main = paste(\"CC. signal wrt 1975-2005\"),\n",
    "                ylab = period,\n",
    "                col.regions = cb,\n",
    "                at = at,\n",
    "                set.min = at[1], set.max = at[length(at)])  \n",
    "  }) \n",
    "}) %>% unlist(recursive = FALSE)   \n",
    "pdf(pdfOutput, width = 15, height = 10)   \n",
    "grid.arrange(grobs = figs, ncol = 3)                     \n",
    "dev.off()"
   ]
  },
  {
   "cell_type": "markdown",
   "metadata": {},
   "source": [
    "### Time-series"
   ]
  },
  {
   "cell_type": "markdown",
   "metadata": {},
   "source": [
    "The following block of code allows for plotting the time-series of the climate change signals. For precipitation (temperature), we perform a loop over the validation metrics of interest: R01, SDII (Mean). For details about these metrics please see the manuscript or type `show.indices()` in a new cell. At each iteration of the loop we define a `doCall.args` list which contains the `aggr.y` arguments needed for the `aggregateGrid` function (note the validation is done at an annual basis), which is finally passed t  `do.call`. At the end of the loop, the resulting figures are saved in `pdf` format."
   ]
  },
  {
   "cell_type": "code",
   "execution_count": null,
   "metadata": {},
   "outputs": [],
   "source": [
    "## Please select one:   -----------------------------------------------------------------------\n",
    "# Precipitation\n",
    "indices <- c(\"R01\",\"SDII\")\n",
    "variable  <- \"precip\"\n",
    "var <- \"pr\"\n",
    "load(\"./Data/precip/y.rda\")"
   ]
  },
  {
   "cell_type": "code",
   "execution_count": null,
   "metadata": {},
   "outputs": [],
   "source": [
    "# Temperature\n",
    "indices <- c(\"Mean\")\n",
    "variable <- \"temperature\"\n",
    "var <- \"tas\"\n",
    "load(\"./Data/temperature/y.rda\")\n",
    "## --------------------------------------------------------------------------------------------"
   ]
  },
  {
   "cell_type": "code",
   "execution_count": null,
   "metadata": {},
   "outputs": [],
   "source": [
    "dName <- c(\"CanESM2\",\"CNRM-CM5\",\"MPI-ESM-MR\",\"MPI-ESM-LR\",\"NorESM1\",\"GFDL\",\"EC-Earth\",\"IPSL\")"
   ]
  },
  {
   "cell_type": "code",
   "execution_count": null,
   "metadata": {},
   "outputs": [],
   "source": [
    "figs <- lapply(indices, FUN = function(zz) {\n",
    "  doCall.args <- list() \n",
    "  doCall.args[[\"aggr.y\"]] <- list()\n",
    "  \n",
    "  # The R01 do.call arguments  \n",
    "  if (zz == \"R01\")  {\n",
    "    doCall.args[[\"aggr.y\"]][[\"FUN\"]] <- \"index.freq\"\n",
    "    doCall.args[[\"aggr.y\"]][[\"freq.type\"]] <- \"rel\"\n",
    "    doCall.args[[\"aggr.y\"]][[\"condition\"]] <- \"GE\"\n",
    "    doCall.args[[\"aggr.y\"]][[\"threshold\"]] <- 1\n",
    "    ylim <- c(0.24,0.54)  \n",
    "  }\n",
    "  # The SDII do.call arguments  \n",
    "  if (zz == \"SDII\"){\n",
    "    doCall.args[[\"aggr.y\"]][[\"FUN\"]] <- \"index.meanGE\"\n",
    "    doCall.args[[\"aggr.y\"]][[\"threshold\"]] <- 1\n",
    "    ylim <- c(2,9)  \n",
    "  } \n",
    "  # The Mean do.call arguments    \n",
    "  if (zz == \"Mean\"){\n",
    "    doCall.args[[\"aggr.y\"]][[\"FUN\"]]   <- \"mean\"\n",
    "    doCall.args[[\"aggr.y\"]][[\"na.rm\"]] <- TRUE\n",
    "    ylim <- c(0,18)  \n",
    "  }    \n",
    "    \n",
    "  # We compute the index for the GCM ensemble. To do this, we loop over the temporal periods and then bind the serie along the time dimension with bindGrid function    \n",
    "  pred1 <- lapply(c(\"h\",\"ef\",\"mf\",\"ff\"), FUN = function(z) { \n",
    "    lapply(1:length(dName), FUN = function(zzz) {            \n",
    "      doCall.args[[\"grid\"]] <- loadGridData(dataset = paste0(\"./Data/\",variable,\"/y_\",z,\"_\",dName[zzz],\".nc4\"),var = var)\n",
    "      do.call(\"aggregateGrid\",doCall.args)\n",
    "    }) %>% bindGrid(dimension = \"member\")\n",
    "  }) %>% bindGrid(dimension = \"time\") \n",
    "  \n",
    "  # We compute the index for the RCM ensemble. To do this, we loop over the temporal periods and then bind the serie along the time dimension with bindGrid function\n",
    "  pred3 <- lapply(c(\"h\",\"ef\",\"mf\",\"ff\"), FUN = function(z) { \n",
    "    lapply(1:11, FUN = function(zzz) {            \n",
    "      doCall.args[[\"grid\"]] <- loadGridData(dataset = paste0(\"./Data/\",variable,\"/yRCM_\",z,\"_member\",zzz,\".nc4\"),var = var)\n",
    "      do.call(\"aggregateGrid\",doCall.args)\n",
    "    }) %>% bindGrid(dimension = \"member\")\n",
    "  }) %>% bindGrid(dimension = \"time\")\n",
    "    \n",
    "    # We compute the index for the DeepESD ensemble. To do this, we loop over the temporal periods and then bind the serie along the time dimension with bindGrid function    \n",
    "  pred2 <- lapply(c(\"h\",\"ef\",\"mf\",\"ff\"), FUN = function(z) { \n",
    "    lapply(1:length(dName), FUN = function(zzz) {            \n",
    "      doCall.args[[\"grid\"]] <- loadGridData(dataset = paste0(\"./Data/\",variable,\"/CNN_\",z,\"_\",dName[zzz],\".nc4\"),var = var)\n",
    "      do.call(\"aggregateGrid\",doCall.args)\n",
    "    }) %>% bindGrid(dimension = \"member\")\n",
    "  }) %>% bindGrid(dimension = \"time\")\n",
    "      \n",
    "  # We compute the index for the observed temporal serie \n",
    "  doCall.args[[\"grid\"]] <- y\n",
    "  y <- do.call(\"aggregateGrid\",doCall.args)\n",
    "  \n",
    "  # We call temporalPlot to plot the times-series \n",
    "  temporalPlot(\"OBS\" = y,\"GCM\" = pred1,\"RCM\" = pred3,\"CNN\" = pred2, cols = c(\"black\",\"red\",\"blue\",\"green\"),xyplot.custom = list(ylim = ylim))       \n",
    "})\n"
   ]
  },
  {
   "cell_type": "code",
   "execution_count": null,
   "metadata": {},
   "outputs": [],
   "source": [
    "# Saving the resulting figures in .pdf format\n",
    "pdf(paste0(\"./figures/serie_\",var,\".pdf\"), width = 15, height = 4)\n",
    "grid.arrange(grobs = figs, ncol = 3)  \n",
    "dev.off()"
   ]
  },
  {
   "cell_type": "markdown",
   "metadata": {},
   "source": [
    "## Technical specifications"
   ]
  },
  {
   "cell_type": "markdown",
   "metadata": {},
   "source": [
    "Please note this notebook was run on a machine with the following technical specifications:\n",
    "\n",
    "- Operating system: Ubuntu 18.04.3 LTS (64 bits)\n",
    "- Memory: 60 GiB\n",
    "- Processor: 2x Intel(R) Xeon(R) CPU E5-2670 0 @ 2.60GHz (16 cores, 32 threads)"
   ]
  }
 ],
 "metadata": {
  "kernelspec": {
   "display_name": "R",
   "language": "R",
   "name": "ir"
  },
  "language_info": {
   "codemirror_mode": "r",
   "file_extension": ".r",
   "mimetype": "text/x-r-source",
   "name": "R",
   "pygments_lexer": "r",
   "version": "3.6.3"
  },
  "latex_envs": {
   "LaTeX_envs_menu_present": true,
   "autoclose": false,
   "autocomplete": true,
   "bibliofile": "biblio.bib",
   "cite_by": "apalike",
   "current_citInitial": 1,
   "eqLabelWithNumbers": true,
   "eqNumInitial": 1,
   "hotkeys": {
    "equation": "Ctrl-E",
    "itemize": "Ctrl-I"
   },
   "labels_anchors": false,
   "latex_user_defs": false,
   "report_style_numbering": false,
   "user_envs_cfg": false
  },
  "toc": {
   "base_numbering": 1,
   "nav_menu": {
    "height": "386px",
    "width": "400px"
   },
   "number_sections": true,
   "sideBar": true,
   "skip_h1_title": true,
   "title_cell": "Table of Contents",
   "title_sidebar": "Contents",
   "toc_cell": true,
   "toc_position": {},
   "toc_section_display": true,
   "toc_window_display": true
  }
 },
 "nbformat": 4,
 "nbformat_minor": 4
}
